{
 "cells": [
  {
   "cell_type": "markdown",
   "metadata": {},
   "source": [
    "# Daltonify: An Audio Feature Based Recommender System\n",
    "\n",
    "## *Exploring Spotify Data Objects*\n",
    "The Spotify API is accessed using the `spotipy` Python library.\n",
    "\n",
    "This notebook is used to learn how to call and format information returned by the API.\n",
    "\n",
    "#### Table of Contents\n",
    "\n",
    "* [Introduction to Spotify API](#intro-api)\n",
    "* [Examining Track Object](#track-object)\n",
    "* [Examining Artist Information](#artist-object)\n",
    "* [Searching Spotify](#search-spotify)\n",
    "\n",
    "### Import Libraries"
   ]
  },
  {
   "cell_type": "code",
   "execution_count": 5,
   "metadata": {},
   "outputs": [],
   "source": [
    "## STANDARD IMPORTS\n",
    "import pandas as pd \n",
    "import numpy as np\n",
    "import re\n",
    "## VISUALIZATIONS\n",
    "import matplotlib.pyplot as plt\n",
    "import seaborn as sns\n",
    "## MODELING\n",
    "\n",
    "## SPOTIFY\n",
    "import spotipy\n",
    "from spotipy.oauth2 import SpotifyClientCredentials"
   ]
  },
  {
   "cell_type": "code",
   "execution_count": 6,
   "metadata": {},
   "outputs": [],
   "source": [
    "### Spotify Credentials - must be set in local environment to run\n",
    "auth_manager = SpotifyClientCredentials()\n",
    "sp = spotipy.Spotify(auth_manager=auth_manager)"
   ]
  },
  {
   "cell_type": "markdown",
   "metadata": {},
   "source": [
    "**Note**: my Spotify authorization credentials are not included in this project directly for security reasons. They are set on my local system and not in this project. If you would like to run any of these notebooks you will need to provide your own authorization credentials."
   ]
  },
  {
   "cell_type": "markdown",
   "metadata": {},
   "source": [
    "## Introduction to Spotify API <a class=\"anchor\" id=\"intro-api\"></a>\n",
    "<hr/>\n",
    "\n",
    "### Spotipy\n",
    "The Spotify API can be easily accessed using the [Spotipy](https://spotipy.readthedocs.io/en/2.16.1/) Python library. In order to access most of the information an app must be registered with Spotify developers which provides a special client id and key. This project was constructed without the need for user information so no further authorization was needed. This will change in future iterations of this project.\n",
    "\n",
    "### Spotify URIs\n",
    "\n",
    "The main way to access information regarding tracks, albums or artists is via the Spotify URI. This is a unique code given to every track, artist, or album. They are obtained via the Spotify desktop app simply by right clicking on the item in Spotify and looking under the Share option. [Spotify URIs and ID's Explained](https://developer.spotify.com/documentation/web-api/#spotify-uris-and-ids). General information on regarding the Spotify API [Spotipy API Documentation](https://spotipy.readthedocs.io/en/2.16.0/#\").\n",
    "\n",
    "The spotify URI has the form similar to `spotify:track:4HJ7mSMtHAdU55lLjGE4zW`\n",
    "This identifies an item as being a track, album, or artist. A shortened form is simply the Spotify ID: `4HJ7mSMtHAdU55lLjGE4zW`.\n",
    "\n",
    "## Examining Track Object <a class=\"anchor\" id=\"track-object\"></a>\n",
    "<hr/>\n",
    "\n",
    "Spotify returns a track object which is a JSON object. Items are accessed exactly as they are for a Python dictionary."
   ]
  },
  {
   "cell_type": "code",
   "execution_count": 34,
   "metadata": {},
   "outputs": [],
   "source": [
    "track_id = '4HJ7mSMtHAdU55lLjGE4zW'"
   ]
  },
  {
   "cell_type": "markdown",
   "metadata": {},
   "source": [
    "We can access track information by using the following Spotipy function."
   ]
  },
  {
   "cell_type": "code",
   "execution_count": 35,
   "metadata": {},
   "outputs": [],
   "source": [
    "track = sp.track(track_id)"
   ]
  },
  {
   "cell_type": "code",
   "execution_count": 19,
   "metadata": {},
   "outputs": [
    {
     "data": {
      "text/plain": [
       "dict_keys(['album', 'artists', 'available_markets', 'disc_number', 'duration_ms', 'explicit', 'external_ids', 'external_urls', 'href', 'id', 'is_local', 'name', 'popularity', 'preview_url', 'track_number', 'type', 'uri'])"
      ]
     },
     "execution_count": 19,
     "metadata": {},
     "output_type": "execute_result"
    }
   ],
   "source": [
    "track.keys()"
   ]
  },
  {
   "cell_type": "markdown",
   "metadata": {},
   "source": [
    "We can get all sorts of information on the track from this."
   ]
  },
  {
   "cell_type": "code",
   "execution_count": 20,
   "metadata": {},
   "outputs": [
    {
     "data": {
      "text/plain": [
       "'Boston'"
      ]
     },
     "execution_count": 20,
     "metadata": {},
     "output_type": "execute_result"
    }
   ],
   "source": [
    "track['name']"
   ]
  },
  {
   "cell_type": "code",
   "execution_count": 21,
   "metadata": {},
   "outputs": [
    {
     "data": {
      "text/plain": [
       "'Dalton & the Sheriffs'"
      ]
     },
     "execution_count": 21,
     "metadata": {},
     "output_type": "execute_result"
    }
   ],
   "source": [
    "track['artists'][0]['name']"
   ]
  },
  {
   "cell_type": "code",
   "execution_count": 23,
   "metadata": {},
   "outputs": [
    {
     "data": {
      "text/plain": [
       "'Luckier by Half'"
      ]
     },
     "execution_count": 23,
     "metadata": {},
     "output_type": "execute_result"
    }
   ],
   "source": [
    "track['album']['name']"
   ]
  },
  {
   "cell_type": "code",
   "execution_count": 24,
   "metadata": {},
   "outputs": [
    {
     "data": {
      "text/plain": [
       "15"
      ]
     },
     "execution_count": 24,
     "metadata": {},
     "output_type": "execute_result"
    }
   ],
   "source": [
    "track['popularity']"
   ]
  },
  {
   "cell_type": "markdown",
   "metadata": {},
   "source": [
    "We can even obtain album artwork."
   ]
  },
  {
   "cell_type": "code",
   "execution_count": 32,
   "metadata": {},
   "outputs": [
    {
     "data": {
      "text/plain": [
       "'https://i.scdn.co/image/ab67616d00001e02388feb546609171eae74dbad'"
      ]
     },
     "execution_count": 32,
     "metadata": {},
     "output_type": "execute_result"
    }
   ],
   "source": [
    "url = track['album']['images'][1]['url']\n",
    "url"
   ]
  },
  {
   "cell_type": "markdown",
   "metadata": {},
   "source": [
    "<img src='https://i.scdn.co/image/ab67616d00001e02388feb546609171eae74dbad'/>"
   ]
  },
  {
   "cell_type": "markdown",
   "metadata": {},
   "source": [
    "You can also obtain the audio features for a track."
   ]
  },
  {
   "cell_type": "code",
   "execution_count": 57,
   "metadata": {},
   "outputs": [
    {
     "data": {
      "text/plain": [
       "{'danceability': 0.541,\n",
       " 'energy': 0.921,\n",
       " 'key': 11,\n",
       " 'loudness': -5.25,\n",
       " 'mode': 1,\n",
       " 'speechiness': 0.0443,\n",
       " 'acousticness': 0.00052,\n",
       " 'instrumentalness': 0.0784,\n",
       " 'liveness': 0.159,\n",
       " 'valence': 0.613,\n",
       " 'tempo': 99.98,\n",
       " 'type': 'audio_features',\n",
       " 'id': '4HJ7mSMtHAdU55lLjGE4zW',\n",
       " 'uri': 'spotify:track:4HJ7mSMtHAdU55lLjGE4zW',\n",
       " 'track_href': 'https://api.spotify.com/v1/tracks/4HJ7mSMtHAdU55lLjGE4zW',\n",
       " 'analysis_url': 'https://api.spotify.com/v1/audio-analysis/4HJ7mSMtHAdU55lLjGE4zW',\n",
       " 'duration_ms': 223440,\n",
       " 'time_signature': 4}"
      ]
     },
     "execution_count": 57,
     "metadata": {},
     "output_type": "execute_result"
    }
   ],
   "source": [
    "track_features = sp.audio_features(track_id)\n",
    "track_features[0]"
   ]
  },
  {
   "cell_type": "markdown",
   "metadata": {},
   "source": [
    "These are explored more in detail in another notebook."
   ]
  },
  {
   "cell_type": "markdown",
   "metadata": {},
   "source": [
    "## Examining Artist Object <a class=\"anchor\" id=\"artist-object\"></a>\n",
    "<hr/>"
   ]
  },
  {
   "cell_type": "code",
   "execution_count": 36,
   "metadata": {},
   "outputs": [],
   "source": [
    "artist_id = '6flzo4uffk7TCeZOq4qVQ3'"
   ]
  },
  {
   "cell_type": "code",
   "execution_count": 38,
   "metadata": {},
   "outputs": [
    {
     "data": {
      "text/plain": [
       "dict_keys(['external_urls', 'followers', 'genres', 'href', 'id', 'images', 'name', 'popularity', 'type', 'uri'])"
      ]
     },
     "execution_count": 38,
     "metadata": {},
     "output_type": "execute_result"
    }
   ],
   "source": [
    "artist = sp.artist(artist_id)\n",
    "artist.keys()"
   ]
  },
  {
   "cell_type": "code",
   "execution_count": 40,
   "metadata": {},
   "outputs": [
    {
     "data": {
      "text/plain": [
       "'Dalton & the Sheriffs'"
      ]
     },
     "execution_count": 40,
     "metadata": {},
     "output_type": "execute_result"
    }
   ],
   "source": [
    "artist['name']"
   ]
  },
  {
   "cell_type": "code",
   "execution_count": 43,
   "metadata": {},
   "outputs": [
    {
     "data": {
      "text/plain": [
       "2297"
      ]
     },
     "execution_count": 43,
     "metadata": {},
     "output_type": "execute_result"
    }
   ],
   "source": [
    "artist['followers']['total']"
   ]
  },
  {
   "cell_type": "code",
   "execution_count": 44,
   "metadata": {},
   "outputs": [
    {
     "data": {
      "text/plain": [
       "[]"
      ]
     },
     "execution_count": 44,
     "metadata": {},
     "output_type": "execute_result"
    }
   ],
   "source": [
    "artist['genres']"
   ]
  },
  {
   "cell_type": "markdown",
   "metadata": {},
   "source": [
    "Genre in formation is only available for albums and artists. Unfortunately, genre information is not always available. Since this is a local artist that has not been listened to that much compared to well known artist, we'll look at a more popular artist."
   ]
  },
  {
   "cell_type": "code",
   "execution_count": 53,
   "metadata": {},
   "outputs": [],
   "source": [
    "artist_id_2 = '718COspgdWOnwOFpJHRZHS'\n",
    "artist_2 = sp.artist(artist_id_2)"
   ]
  },
  {
   "cell_type": "code",
   "execution_count": 54,
   "metadata": {},
   "outputs": [
    {
     "data": {
      "text/plain": [
       "'Luke Combs'"
      ]
     },
     "execution_count": 54,
     "metadata": {},
     "output_type": "execute_result"
    }
   ],
   "source": [
    "artist_2['name']"
   ]
  },
  {
   "cell_type": "code",
   "execution_count": 55,
   "metadata": {},
   "outputs": [
    {
     "data": {
      "text/plain": [
       "3760802"
      ]
     },
     "execution_count": 55,
     "metadata": {},
     "output_type": "execute_result"
    }
   ],
   "source": [
    "artist_2['followers']['total']"
   ]
  },
  {
   "cell_type": "code",
   "execution_count": 56,
   "metadata": {},
   "outputs": [
    {
     "data": {
      "text/plain": [
       "['contemporary country']"
      ]
     },
     "execution_count": 56,
     "metadata": {},
     "output_type": "execute_result"
    }
   ],
   "source": [
    "artist_2['genres']"
   ]
  },
  {
   "cell_type": "markdown",
   "metadata": {},
   "source": [
    "Some artists may have multiple genres listed or none at all.\n",
    "\n",
    "Luckily the search method does allow for a means to search based on track genres. This was not an obvious option at first.\n",
    "\n",
    "## Searching Spotify <a class=\"anchor\" id=\"search-spotify\"></a>\n",
    "<hr/>"
   ]
  },
  {
   "cell_type": "code",
   "execution_count": 58,
   "metadata": {},
   "outputs": [],
   "source": [
    "genre = \"hip hop\""
   ]
  },
  {
   "cell_type": "code",
   "execution_count": 59,
   "metadata": {},
   "outputs": [],
   "source": [
    "results = sp.search(q=f'genre: \"{genre}\"', type='track',limit=5, market='US')"
   ]
  },
  {
   "cell_type": "code",
   "execution_count": 70,
   "metadata": {},
   "outputs": [
    {
     "data": {
      "text/plain": [
       "dict_keys(['tracks'])"
      ]
     },
     "execution_count": 70,
     "metadata": {},
     "output_type": "execute_result"
    }
   ],
   "source": [
    "results.keys()"
   ]
  },
  {
   "cell_type": "code",
   "execution_count": 75,
   "metadata": {},
   "outputs": [
    {
     "data": {
      "text/plain": [
       "'Drake'"
      ]
     },
     "execution_count": 75,
     "metadata": {},
     "output_type": "execute_result"
    }
   ],
   "source": [
    "results['tracks']['items'][0]['artists'][0]['name']"
   ]
  },
  {
   "cell_type": "code",
   "execution_count": 87,
   "metadata": {},
   "outputs": [
    {
     "name": "stdout",
     "output_type": "stream",
     "text": [
      "Name                                                         Artist               Type\n",
      "------------------------------------------------------------------------------------------\n",
      "Laugh Now Cry Later (feat. Lil Durk)                         Drake                track               \n",
      "ROCKSTAR (feat. Roddy Ricch)                                 DaBaby               track               \n",
      "POPSTAR (feat. Drake)                                        DJ Khaled            track               \n",
      "WHATS POPPIN (feat. DaBaby, Tory Lanez & Lil Wayne) - Remix  Jack Harlow          track               \n",
      "Tyler Herro                                                  Jack Harlow          track               \n"
     ]
    }
   ],
   "source": [
    "print('{:60s} {:20s} {:1s}'.format('Name', 'Artist', 'Type'))\n",
    "print('------------------------------------------------------------------------------------------')\n",
    "for i in range(len(results['tracks']['items'])):\n",
    "    print('{:60s} {:20s} {:20s}'.format(results['tracks']['items'][i]['name'], results['tracks']['items'][i]['artists'][0]['name'], results['tracks']['items'][i]['type']))"
   ]
  },
  {
   "cell_type": "markdown",
   "metadata": {},
   "source": [
    "There is also an option to use an offset which skips a number of results and collects the next track or batch of tracks. We can get a different list of tracks based on this. Currently, Spotify does not offer any option to sort the search results and it is unclear how results are retreived."
   ]
  },
  {
   "cell_type": "code",
   "execution_count": 92,
   "metadata": {},
   "outputs": [],
   "source": [
    "results = sp.search(q=f'genre: \"{genre}\"', type='track',limit=5, offset=10, market='US')"
   ]
  },
  {
   "cell_type": "code",
   "execution_count": 93,
   "metadata": {},
   "outputs": [
    {
     "name": "stdout",
     "output_type": "stream",
     "text": [
      "Name                                                         Artist               Type\n",
      "------------------------------------------------------------------------------------------\n",
      "GO (feat. Juice WRLD)                                        The Kid LAROI        track               \n",
      "GREECE (feat. Drake)                                         DJ Khaled            track               \n",
      "24 (feat. Lil Baby)                                          Money Man            track               \n",
      "DOLLAZ ON MY HEAD (feat. Young Thug)                         Gunna                track               \n",
      "PRACTICE                                                     DaBaby               track               \n"
     ]
    }
   ],
   "source": [
    "print('{:60s} {:20s} {:1s}'.format('Name', 'Artist', 'Type'))\n",
    "print('------------------------------------------------------------------------------------------')\n",
    "for i in range(len(results['tracks']['items'])):\n",
    "    print('{:60s} {:20s} {:20s}'.format(results['tracks']['items'][i]['name'], results['tracks']['items'][i]['artists'][0]['name'], results['tracks']['items'][i]['type']))  "
   ]
  },
  {
   "cell_type": "markdown",
   "metadata": {},
   "source": [
    "This search feature will allow us to search for batches of tracks based on genre. We'll have no option to sort these items or to gaurantee the type of results we will obtain."
   ]
  }
 ],
 "metadata": {
  "kernelspec": {
   "display_name": "Python 3",
   "language": "python",
   "name": "python3"
  },
  "language_info": {
   "codemirror_mode": {
    "name": "ipython",
    "version": 3
   },
   "file_extension": ".py",
   "mimetype": "text/x-python",
   "name": "python",
   "nbconvert_exporter": "python",
   "pygments_lexer": "ipython3",
   "version": "3.8.5"
  }
 },
 "nbformat": 4,
 "nbformat_minor": 4
}
