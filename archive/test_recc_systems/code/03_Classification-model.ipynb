{
 "cells": [
  {
   "cell_type": "markdown",
   "metadata": {},
   "source": [
    "# Project 4: Hackathon\n",
    "\n",
    "## *Examining Classification Models on Entire Data Set*\n",
    "\n",
    "In this notebook:\n",
    "\n",
    "* [Linear Regression](#lr-data)\n",
    "* [Logistic Regression](#lgr-data)\n",
    "* [KNN](#knn-data)\n",
    "* [Tree Models](#trees-data)\n",
    "* [Support Vector Machines](#svm-data)\n",
    "* [Evaluating the Models](#eval-data)\n",
    "\n",
    "Note: for the larger data set, KNN and SVM took to long so these models were aborted. Other than that, similar models were used as for examining the Hip-Hop genre.\n",
    "\n",
    "\n",
    "#### Import Libraries & Read in Data"
   ]
  },
  {
   "cell_type": "code",
   "execution_count": 1,
   "metadata": {},
   "outputs": [],
   "source": [
    "## standard imports \n",
    "import pandas as pd \n",
    "import numpy as np\n",
    "import re\n",
    "## visualizations\n",
    "import matplotlib.pyplot as plt\n",
    "import seaborn as sns\n",
    "## preprocessing\n",
    "from sklearn.pipeline import make_pipeline\n",
    "from sklearn.preprocessing import StandardScaler, PolynomialFeatures\n",
    "from sklearn.feature_selection import SelectKBest, f_regression\n",
    "from sklearn.dummy import DummyClassifier\n",
    "## modeling\n",
    "from sklearn.linear_model import LogisticRegression, LinearRegression, Lasso, Ridge, ElasticNet\n",
    "from sklearn.model_selection import train_test_split, GridSearchCV\n",
    "from sklearn.neighbors import KNeighborsClassifier, KNeighborsRegressor\n",
    "from sklearn.svm import SVC, SVR\n",
    "from sklearn.naive_bayes import MultinomialNB\n",
    "## trees\n",
    "from sklearn.tree import DecisionTreeClassifier, DecisionTreeRegressor\n",
    "from sklearn.ensemble import BaggingClassifier, BaggingRegressor, RandomForestClassifier, ExtraTreesClassifier, RandomForestRegressor, ExtraTreesRegressor, AdaBoostRegressor, AdaBoostClassifier, GradientBoostingRegressor\n",
    "## NLP\n",
    "from sklearn.feature_extraction.text import CountVectorizer\n",
    "## analysis\n",
    "from sklearn.metrics import confusion_matrix, plot_confusion_matrix, accuracy_score, make_scorer, f1_score, mean_squared_error\n",
    "\n",
    "## options\n",
    "import sklearn\n",
    "pd.options.display.max_rows = 4000\n",
    "pd.options.display.max_columns = 100\n",
    "pd.set_option('max_colwidth', 100)"
   ]
  },
  {
   "cell_type": "code",
   "execution_count": 2,
   "metadata": {},
   "outputs": [
    {
     "data": {
      "text/html": [
       "<div>\n",
       "<style scoped>\n",
       "    .dataframe tbody tr th:only-of-type {\n",
       "        vertical-align: middle;\n",
       "    }\n",
       "\n",
       "    .dataframe tbody tr th {\n",
       "        vertical-align: top;\n",
       "    }\n",
       "\n",
       "    .dataframe thead th {\n",
       "        text-align: right;\n",
       "    }\n",
       "</style>\n",
       "<table border=\"1\" class=\"dataframe\">\n",
       "  <thead>\n",
       "    <tr style=\"text-align: right;\">\n",
       "      <th></th>\n",
       "      <th>genre</th>\n",
       "      <th>track_id</th>\n",
       "      <th>popularity</th>\n",
       "      <th>acousticness</th>\n",
       "      <th>danceability</th>\n",
       "      <th>energy</th>\n",
       "      <th>instrumentalness</th>\n",
       "      <th>liveness</th>\n",
       "      <th>loudness</th>\n",
       "      <th>speechiness</th>\n",
       "      <th>tempo</th>\n",
       "      <th>valence</th>\n",
       "      <th>is_popular</th>\n",
       "    </tr>\n",
       "  </thead>\n",
       "  <tbody>\n",
       "    <tr>\n",
       "      <th>0</th>\n",
       "      <td>Movie</td>\n",
       "      <td>0BRjO6ga9RKCKjfDqeFgWV</td>\n",
       "      <td>0</td>\n",
       "      <td>0.611</td>\n",
       "      <td>0.389</td>\n",
       "      <td>0.910</td>\n",
       "      <td>0.000</td>\n",
       "      <td>0.3460</td>\n",
       "      <td>-1.828</td>\n",
       "      <td>0.0525</td>\n",
       "      <td>166.969</td>\n",
       "      <td>0.814</td>\n",
       "      <td>0</td>\n",
       "    </tr>\n",
       "    <tr>\n",
       "      <th>1</th>\n",
       "      <td>Movie</td>\n",
       "      <td>0BjC1NfoEOOusryehmNudP</td>\n",
       "      <td>1</td>\n",
       "      <td>0.246</td>\n",
       "      <td>0.590</td>\n",
       "      <td>0.737</td>\n",
       "      <td>0.000</td>\n",
       "      <td>0.1510</td>\n",
       "      <td>-5.559</td>\n",
       "      <td>0.0868</td>\n",
       "      <td>174.003</td>\n",
       "      <td>0.816</td>\n",
       "      <td>0</td>\n",
       "    </tr>\n",
       "    <tr>\n",
       "      <th>2</th>\n",
       "      <td>Movie</td>\n",
       "      <td>0CoSDzoNIKCRs124s9uTVy</td>\n",
       "      <td>3</td>\n",
       "      <td>0.952</td>\n",
       "      <td>0.663</td>\n",
       "      <td>0.131</td>\n",
       "      <td>0.000</td>\n",
       "      <td>0.1030</td>\n",
       "      <td>-13.879</td>\n",
       "      <td>0.0362</td>\n",
       "      <td>99.488</td>\n",
       "      <td>0.368</td>\n",
       "      <td>0</td>\n",
       "    </tr>\n",
       "    <tr>\n",
       "      <th>3</th>\n",
       "      <td>Movie</td>\n",
       "      <td>0Gc6TVm52BwZD07Ki6tIvf</td>\n",
       "      <td>0</td>\n",
       "      <td>0.703</td>\n",
       "      <td>0.240</td>\n",
       "      <td>0.326</td>\n",
       "      <td>0.000</td>\n",
       "      <td>0.0985</td>\n",
       "      <td>-12.178</td>\n",
       "      <td>0.0395</td>\n",
       "      <td>171.758</td>\n",
       "      <td>0.227</td>\n",
       "      <td>0</td>\n",
       "    </tr>\n",
       "    <tr>\n",
       "      <th>4</th>\n",
       "      <td>Movie</td>\n",
       "      <td>0IuslXpMROHdEPvSl1fTQK</td>\n",
       "      <td>4</td>\n",
       "      <td>0.950</td>\n",
       "      <td>0.331</td>\n",
       "      <td>0.225</td>\n",
       "      <td>0.123</td>\n",
       "      <td>0.2020</td>\n",
       "      <td>-21.150</td>\n",
       "      <td>0.0456</td>\n",
       "      <td>140.576</td>\n",
       "      <td>0.390</td>\n",
       "      <td>0</td>\n",
       "    </tr>\n",
       "  </tbody>\n",
       "</table>\n",
       "</div>"
      ],
      "text/plain": [
       "   genre                track_id  popularity  acousticness  danceability  \\\n",
       "0  Movie  0BRjO6ga9RKCKjfDqeFgWV           0         0.611         0.389   \n",
       "1  Movie  0BjC1NfoEOOusryehmNudP           1         0.246         0.590   \n",
       "2  Movie  0CoSDzoNIKCRs124s9uTVy           3         0.952         0.663   \n",
       "3  Movie  0Gc6TVm52BwZD07Ki6tIvf           0         0.703         0.240   \n",
       "4  Movie  0IuslXpMROHdEPvSl1fTQK           4         0.950         0.331   \n",
       "\n",
       "   energy  instrumentalness  liveness  loudness  speechiness    tempo  \\\n",
       "0   0.910             0.000    0.3460    -1.828       0.0525  166.969   \n",
       "1   0.737             0.000    0.1510    -5.559       0.0868  174.003   \n",
       "2   0.131             0.000    0.1030   -13.879       0.0362   99.488   \n",
       "3   0.326             0.000    0.0985   -12.178       0.0395  171.758   \n",
       "4   0.225             0.123    0.2020   -21.150       0.0456  140.576   \n",
       "\n",
       "   valence  is_popular  \n",
       "0    0.814           0  \n",
       "1    0.816           0  \n",
       "2    0.368           0  \n",
       "3    0.227           0  \n",
       "4    0.390           0  "
      ]
     },
     "execution_count": 2,
     "metadata": {},
     "output_type": "execute_result"
    }
   ],
   "source": [
    "### read in data\n",
    "data = pd.read_csv('../data/data_cleaned_classification.csv')\n",
    "data.head()"
   ]
  },
  {
   "cell_type": "markdown",
   "metadata": {},
   "source": [
    "### EDA & Visualizations"
   ]
  },
  {
   "cell_type": "code",
   "execution_count": 3,
   "metadata": {},
   "outputs": [
    {
     "data": {
      "text/plain": [
       "1    114071\n",
       "0    113132\n",
       "Name: is_popular, dtype: int64"
      ]
     },
     "execution_count": 3,
     "metadata": {},
     "output_type": "execute_result"
    }
   ],
   "source": [
    "### check balance of classes\n",
    "data['is_popular'].value_counts()"
   ]
  },
  {
   "cell_type": "code",
   "execution_count": 4,
   "metadata": {},
   "outputs": [
    {
     "data": {
      "text/html": [
       "<div>\n",
       "<style scoped>\n",
       "    .dataframe tbody tr th:only-of-type {\n",
       "        vertical-align: middle;\n",
       "    }\n",
       "\n",
       "    .dataframe tbody tr th {\n",
       "        vertical-align: top;\n",
       "    }\n",
       "\n",
       "    .dataframe thead th {\n",
       "        text-align: right;\n",
       "    }\n",
       "</style>\n",
       "<table border=\"1\" class=\"dataframe\">\n",
       "  <thead>\n",
       "    <tr style=\"text-align: right;\">\n",
       "      <th></th>\n",
       "      <th>popularity</th>\n",
       "      <th>acousticness</th>\n",
       "      <th>danceability</th>\n",
       "      <th>energy</th>\n",
       "      <th>instrumentalness</th>\n",
       "      <th>liveness</th>\n",
       "      <th>loudness</th>\n",
       "      <th>speechiness</th>\n",
       "      <th>tempo</th>\n",
       "      <th>valence</th>\n",
       "      <th>is_popular</th>\n",
       "    </tr>\n",
       "  </thead>\n",
       "  <tbody>\n",
       "    <tr>\n",
       "      <th>count</th>\n",
       "      <td>227203.000000</td>\n",
       "      <td>227203.000000</td>\n",
       "      <td>227203.000000</td>\n",
       "      <td>227203.000000</td>\n",
       "      <td>227203.000000</td>\n",
       "      <td>227203.000000</td>\n",
       "      <td>227203.000000</td>\n",
       "      <td>227203.000000</td>\n",
       "      <td>227203.000000</td>\n",
       "      <td>227203.000000</td>\n",
       "      <td>227203.000000</td>\n",
       "    </tr>\n",
       "    <tr>\n",
       "      <th>mean</th>\n",
       "      <td>42.021074</td>\n",
       "      <td>0.363011</td>\n",
       "      <td>0.551036</td>\n",
       "      <td>0.575265</td>\n",
       "      <td>0.148487</td>\n",
       "      <td>0.216242</td>\n",
       "      <td>-9.518473</td>\n",
       "      <td>0.120889</td>\n",
       "      <td>117.587412</td>\n",
       "      <td>0.449727</td>\n",
       "      <td>0.502066</td>\n",
       "    </tr>\n",
       "    <tr>\n",
       "      <th>std</th>\n",
       "      <td>17.427064</td>\n",
       "      <td>0.353884</td>\n",
       "      <td>0.184889</td>\n",
       "      <td>0.263201</td>\n",
       "      <td>0.302800</td>\n",
       "      <td>0.199380</td>\n",
       "      <td>6.023565</td>\n",
       "      <td>0.186038</td>\n",
       "      <td>30.905558</td>\n",
       "      <td>0.258224</td>\n",
       "      <td>0.499997</td>\n",
       "    </tr>\n",
       "    <tr>\n",
       "      <th>min</th>\n",
       "      <td>0.000000</td>\n",
       "      <td>0.000000</td>\n",
       "      <td>0.056900</td>\n",
       "      <td>0.000020</td>\n",
       "      <td>0.000000</td>\n",
       "      <td>0.009670</td>\n",
       "      <td>-52.457000</td>\n",
       "      <td>0.022200</td>\n",
       "      <td>30.379000</td>\n",
       "      <td>0.000000</td>\n",
       "      <td>0.000000</td>\n",
       "    </tr>\n",
       "    <tr>\n",
       "      <th>25%</th>\n",
       "      <td>30.000000</td>\n",
       "      <td>0.035500</td>\n",
       "      <td>0.433000</td>\n",
       "      <td>0.394000</td>\n",
       "      <td>0.000000</td>\n",
       "      <td>0.097600</td>\n",
       "      <td>-11.642000</td>\n",
       "      <td>0.036700</td>\n",
       "      <td>92.757000</td>\n",
       "      <td>0.234000</td>\n",
       "      <td>0.000000</td>\n",
       "    </tr>\n",
       "    <tr>\n",
       "      <th>50%</th>\n",
       "      <td>44.000000</td>\n",
       "      <td>0.223000</td>\n",
       "      <td>0.567000</td>\n",
       "      <td>0.612000</td>\n",
       "      <td>0.000047</td>\n",
       "      <td>0.129000</td>\n",
       "      <td>-7.678000</td>\n",
       "      <td>0.050000</td>\n",
       "      <td>115.604000</td>\n",
       "      <td>0.438000</td>\n",
       "      <td>1.000000</td>\n",
       "    </tr>\n",
       "    <tr>\n",
       "      <th>75%</th>\n",
       "      <td>55.000000</td>\n",
       "      <td>0.713000</td>\n",
       "      <td>0.688000</td>\n",
       "      <td>0.790000</td>\n",
       "      <td>0.036600</td>\n",
       "      <td>0.266000</td>\n",
       "      <td>-5.464000</td>\n",
       "      <td>0.105000</td>\n",
       "      <td>139.131000</td>\n",
       "      <td>0.653000</td>\n",
       "      <td>1.000000</td>\n",
       "    </tr>\n",
       "    <tr>\n",
       "      <th>max</th>\n",
       "      <td>100.000000</td>\n",
       "      <td>0.996000</td>\n",
       "      <td>0.987000</td>\n",
       "      <td>0.999000</td>\n",
       "      <td>0.999000</td>\n",
       "      <td>1.000000</td>\n",
       "      <td>3.744000</td>\n",
       "      <td>0.967000</td>\n",
       "      <td>242.903000</td>\n",
       "      <td>1.000000</td>\n",
       "      <td>1.000000</td>\n",
       "    </tr>\n",
       "  </tbody>\n",
       "</table>\n",
       "</div>"
      ],
      "text/plain": [
       "          popularity   acousticness   danceability         energy  \\\n",
       "count  227203.000000  227203.000000  227203.000000  227203.000000   \n",
       "mean       42.021074       0.363011       0.551036       0.575265   \n",
       "std        17.427064       0.353884       0.184889       0.263201   \n",
       "min         0.000000       0.000000       0.056900       0.000020   \n",
       "25%        30.000000       0.035500       0.433000       0.394000   \n",
       "50%        44.000000       0.223000       0.567000       0.612000   \n",
       "75%        55.000000       0.713000       0.688000       0.790000   \n",
       "max       100.000000       0.996000       0.987000       0.999000   \n",
       "\n",
       "       instrumentalness       liveness       loudness    speechiness  \\\n",
       "count     227203.000000  227203.000000  227203.000000  227203.000000   \n",
       "mean           0.148487       0.216242      -9.518473       0.120889   \n",
       "std            0.302800       0.199380       6.023565       0.186038   \n",
       "min            0.000000       0.009670     -52.457000       0.022200   \n",
       "25%            0.000000       0.097600     -11.642000       0.036700   \n",
       "50%            0.000047       0.129000      -7.678000       0.050000   \n",
       "75%            0.036600       0.266000      -5.464000       0.105000   \n",
       "max            0.999000       1.000000       3.744000       0.967000   \n",
       "\n",
       "               tempo        valence     is_popular  \n",
       "count  227203.000000  227203.000000  227203.000000  \n",
       "mean      117.587412       0.449727       0.502066  \n",
       "std        30.905558       0.258224       0.499997  \n",
       "min        30.379000       0.000000       0.000000  \n",
       "25%        92.757000       0.234000       0.000000  \n",
       "50%       115.604000       0.438000       1.000000  \n",
       "75%       139.131000       0.653000       1.000000  \n",
       "max       242.903000       1.000000       1.000000  "
      ]
     },
     "execution_count": 4,
     "metadata": {},
     "output_type": "execute_result"
    }
   ],
   "source": [
    "data.describe()"
   ]
  },
  {
   "cell_type": "code",
   "execution_count": 8,
   "metadata": {},
   "outputs": [],
   "source": [
    "# sns.pairplot(data, hue='is_popular')"
   ]
  },
  {
   "cell_type": "markdown",
   "metadata": {},
   "source": [
    "### Select Data"
   ]
  },
  {
   "cell_type": "code",
   "execution_count": 5,
   "metadata": {},
   "outputs": [],
   "source": [
    "### select data\n",
    "X = data.drop(columns=['genre', 'track_id', 'is_popular', 'popularity'])\n",
    "y = data['is_popular']\n",
    "### TTS\n",
    "X_train, X_test, y_train, y_test = train_test_split(X, y, random_state=42)"
   ]
  },
  {
   "cell_type": "code",
   "execution_count": 16,
   "metadata": {},
   "outputs": [],
   "source": []
  },
  {
   "cell_type": "markdown",
   "metadata": {},
   "source": [
    "## Linear Regression <a class=\"anchor\" id=\"lr-data\"></a>\n",
    "<hr/>"
   ]
  },
  {
   "cell_type": "code",
   "execution_count": 6,
   "metadata": {},
   "outputs": [
    {
     "name": "stdout",
     "output_type": "stream",
     "text": [
      "Training score:  0.19472233641243453\n",
      "Testing score:  0.19798707836096807\n"
     ]
    }
   ],
   "source": [
    "lr = LinearRegression()\n",
    "lr.fit(X_train, y_train)\n",
    "\n",
    "print('Training score: ', lr.score(X_train, y_train))\n",
    "print('Testing score: ', lr.score(X_test, y_test))"
   ]
  },
  {
   "cell_type": "code",
   "execution_count": null,
   "metadata": {},
   "outputs": [],
   "source": []
  },
  {
   "cell_type": "code",
   "execution_count": null,
   "metadata": {},
   "outputs": [],
   "source": []
  },
  {
   "cell_type": "markdown",
   "metadata": {},
   "source": [
    "## Logistic Regression <a class=\"anchor\" id=\"lgr-data\"></a>\n",
    "<hr/>"
   ]
  },
  {
   "cell_type": "code",
   "execution_count": 7,
   "metadata": {},
   "outputs": [
    {
     "name": "stdout",
     "output_type": "stream",
     "text": [
      "Training score:  0.6851151981784251\n",
      "Testing score:  0.6896357458495449\n"
     ]
    }
   ],
   "source": [
    "lgr = LogisticRegression(max_iter=1000)\n",
    "lgr.fit(X_train, y_train)\n",
    "\n",
    "print('Training score: ', lgr.score(X_train, y_train))\n",
    "print('Testing score: ', lgr.score(X_test, y_test))"
   ]
  },
  {
   "cell_type": "code",
   "execution_count": 8,
   "metadata": {},
   "outputs": [
    {
     "name": "stdout",
     "output_type": "stream",
     "text": [
      "Training score:  0.6855494653818617\n",
      "Testing score:  0.6904279854227918\n",
      "Best Params {'logisticregression__C': 0.1}\n"
     ]
    }
   ],
   "source": [
    "pipe_lgr = make_pipeline(StandardScaler(), LogisticRegression(max_iter=1000))\n",
    "params_lgr = {\n",
    "#     'selectkbest__k': [10],\n",
    "#     'logisticregression__max_iter':[1000],\n",
    "    'logisticregression__C': [0.01, 0.1, 0.15]\n",
    "}\n",
    "\n",
    "gs_lgr = GridSearchCV(pipe_lgr, params_lgr, n_jobs=-1)\n",
    "gs_lgr.fit(X_train, y_train)\n",
    "\n",
    "print('Training score: ', gs_lgr.score(X_train, y_train))\n",
    "print('Testing score: ', gs_lgr.score(X_test, y_test))\n",
    "print('Best Params', gs_lgr.best_params_)"
   ]
  },
  {
   "cell_type": "code",
   "execution_count": null,
   "metadata": {},
   "outputs": [],
   "source": []
  },
  {
   "cell_type": "code",
   "execution_count": null,
   "metadata": {},
   "outputs": [],
   "source": []
  },
  {
   "cell_type": "code",
   "execution_count": null,
   "metadata": {},
   "outputs": [],
   "source": []
  },
  {
   "cell_type": "markdown",
   "metadata": {},
   "source": [
    "## KNN Classifier <a class=\"anchor\" id=\"knn-data\"></a>\n",
    "<hr/>"
   ]
  },
  {
   "cell_type": "code",
   "execution_count": 11,
   "metadata": {},
   "outputs": [],
   "source": [
    "# pipe_knn = make_pipeline(StandardScaler(), KNeighborsClassifier())\n",
    "\n",
    "# params_knn = {\n",
    "# #     'selectkbest__k': [5, 10, 15],\n",
    "#     'kneighborsclassifier__n_neighbors': [5],\n",
    "# }\n",
    "\n",
    "# gs_knn = GridSearchCV(pipe_knn, params_knn, n_jobs=-1)\n",
    "# gs_knn.fit(X_train, y_train)\n",
    "\n",
    "# print('Training score: ', gs_knn.score(X_train, y_train))\n",
    "# print('Testing score: ', gs_knn.score(X_test, y_test))\n",
    "# print('F1 score: ', f1_score(y, gs_knn.predict(X)))\n",
    "# print('Best Params', gs_knn.best_params_)"
   ]
  },
  {
   "cell_type": "markdown",
   "metadata": {},
   "source": [
    "KNN was taking way too long so this model was aborted."
   ]
  },
  {
   "cell_type": "code",
   "execution_count": null,
   "metadata": {},
   "outputs": [],
   "source": []
  },
  {
   "cell_type": "markdown",
   "metadata": {},
   "source": [
    "## Tree Models <a class=\"anchor\" id=\"trees-data\"></a>\n",
    "<hr/>\n",
    "\n",
    "### Basic Decision Tree"
   ]
  },
  {
   "cell_type": "code",
   "execution_count": 9,
   "metadata": {},
   "outputs": [
    {
     "name": "stdout",
     "output_type": "stream",
     "text": [
      "Training Score:  0.9949531108789803\n",
      "Testing Score:  0.7526275945846024\n"
     ]
    }
   ],
   "source": [
    "dt = DecisionTreeClassifier(random_state = 42)\n",
    "\n",
    "dt.fit(X_train, y_train)\n",
    "\n",
    "print('Training Score: ', dt.score(X_train, y_train))\n",
    "print('Testing Score: ', dt.score(X_test, y_test))"
   ]
  },
  {
   "cell_type": "code",
   "execution_count": null,
   "metadata": {},
   "outputs": [],
   "source": []
  },
  {
   "cell_type": "markdown",
   "metadata": {},
   "source": [
    "### Bagged Decision Tree"
   ]
  },
  {
   "cell_type": "code",
   "execution_count": 10,
   "metadata": {},
   "outputs": [
    {
     "name": "stdout",
     "output_type": "stream",
     "text": [
      "Training Score:  0.9860623701599747\n",
      "Testing Score:  0.7847220999630288\n"
     ]
    }
   ],
   "source": [
    "bag = BaggingClassifier()\n",
    "\n",
    "bag.fit(X_train, y_train)\n",
    "\n",
    "print('Training Score: ', bag.score(X_train, y_train))\n",
    "print('Testing Score: ', bag.score(X_test, y_test))"
   ]
  },
  {
   "cell_type": "code",
   "execution_count": null,
   "metadata": {},
   "outputs": [],
   "source": []
  },
  {
   "cell_type": "markdown",
   "metadata": {},
   "source": [
    "### Random Forest"
   ]
  },
  {
   "cell_type": "code",
   "execution_count": 11,
   "metadata": {},
   "outputs": [
    {
     "name": "stdout",
     "output_type": "stream",
     "text": [
      "Training Score:  0.9949472424032582\n",
      "Testing Score:  0.7934367352687453\n"
     ]
    }
   ],
   "source": [
    "rf = RandomForestClassifier()\n",
    "\n",
    "rf.fit(X_train, y_train)\n",
    "\n",
    "print('Training Score: ', rf.score(X_train, y_train))\n",
    "print('Testing Score: ', rf.score(X_test, y_test))"
   ]
  },
  {
   "cell_type": "markdown",
   "metadata": {},
   "source": [
    "\n",
    "\n",
    "### Ada Boost"
   ]
  },
  {
   "cell_type": "code",
   "execution_count": 12,
   "metadata": {},
   "outputs": [
    {
     "name": "stdout",
     "output_type": "stream",
     "text": [
      "Training Score:  0.6979202122040821\n",
      "Testing Score:  0.7019418672206476\n"
     ]
    }
   ],
   "source": [
    "ada = AdaBoostClassifier(n_estimators=100, random_state = 22)\n",
    "\n",
    "ada.fit(X_train, y_train)\n",
    "\n",
    "print('Training Score: ',ada.score(X_train, y_train))\n",
    "print('Testing Score: ', ada.score(X_test, y_test))"
   ]
  },
  {
   "cell_type": "code",
   "execution_count": null,
   "metadata": {},
   "outputs": [],
   "source": []
  },
  {
   "cell_type": "markdown",
   "metadata": {},
   "source": [
    "## Support Vector Machine <a class=\"anchor\" id=\"svm-data\"></a>\n",
    "<hr/>"
   ]
  },
  {
   "cell_type": "code",
   "execution_count": null,
   "metadata": {},
   "outputs": [],
   "source": [
    "# svm = SVC()\n",
    "\n",
    "# svm.fit(X_train, y_train)\n",
    "\n",
    "# print('Training Score: ', svm.score(X_train, y_train))\n",
    "# print('Testing Score: ', svm.score(X_test, y_test))"
   ]
  },
  {
   "cell_type": "markdown",
   "metadata": {},
   "source": [
    "SVM was taking way too long so this model was aborted."
   ]
  },
  {
   "cell_type": "markdown",
   "metadata": {},
   "source": [
    "## Evaluate Models <a class=\"anchor\" id=\"eval-data\"></a>\n",
    "<hr/>"
   ]
  },
  {
   "cell_type": "code",
   "execution_count": 14,
   "metadata": {},
   "outputs": [
    {
     "name": "stdout",
     "output_type": "stream",
     "text": [
      "Classification Models: F1 Score\n",
      "----------------------------------------------------------------------\n",
      "       Model         | Training Score | Testing Score |   Full Score  |\n",
      "----------------------------------------------------------------------\n",
      "Logistic Regression  |    0.712909    |    0.716579   |    0.713824   |\n",
      "Decision Tree        |    0.994969    |    0.763360   |    0.935254   |\n",
      "Bagged Decision Tree |    0.986095    |    0.786052   |    0.935939   |\n",
      "Random Forest        |    0.994982    |    0.800673   |    0.945348   |\n",
      "AdaBoost             |    0.723251    |    0.726264   |    0.724003   |\n",
      "----------------------------------------------------------------------\n"
     ]
    }
   ],
   "source": [
    "models = {\n",
    "    'Logistic Regression' : gs_lgr,\n",
    "#     'KNN': gs_knn,\n",
    "    'Decision Tree': dt,\n",
    "    'Bagged Decision Tree' : bag,\n",
    "    'Random Forest': rf,\n",
    "    'AdaBoost': ada,\n",
    "#     'SVC': svm\n",
    "}\n",
    "\n",
    "print('Classification Models: F1 Score')\n",
    "print('----------------------------------------------------------------------')\n",
    "print('{:^20s} | {:^14s} | {:^14s}| {:^14s}|'.format('Model', 'Training Score', 'Testing Score', 'Full Score'))\n",
    "print('----------------------------------------------------------------------')\n",
    "\n",
    "for model in models.keys():\n",
    "    y_preds_test = models[model].predict(X_test)\n",
    "    y_preds_train = models[model].predict(X_train)\n",
    "    y_preds = models[model].predict(X)\n",
    "    train_score = f1_score(y_train, y_preds_train)\n",
    "    test_score = f1_score(y_test, y_preds_test)\n",
    "    data_score = f1_score(y, y_preds)\n",
    "    print('{:20s} | {:^14f} | {:^14f}| {:^14f}|'.format(str(model), train_score, test_score, data_score))\n",
    "print('----------------------------------------------------------------------')"
   ]
  },
  {
   "cell_type": "code",
   "execution_count": null,
   "metadata": {},
   "outputs": [],
   "source": []
  }
 ],
 "metadata": {
  "kernelspec": {
   "display_name": "Python 3",
   "language": "python",
   "name": "python3"
  },
  "language_info": {
   "codemirror_mode": {
    "name": "ipython",
    "version": 3
   },
   "file_extension": ".py",
   "mimetype": "text/x-python",
   "name": "python",
   "nbconvert_exporter": "python",
   "pygments_lexer": "ipython3",
   "version": "3.8.3"
  }
 },
 "nbformat": 4,
 "nbformat_minor": 4
}
