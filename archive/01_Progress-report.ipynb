{
 "cells": [
  {
   "cell_type": "markdown",
   "metadata": {},
   "source": [
    "# Capstone Project\n",
    "## *Progress Report*\n",
    "\n",
    "Table of Contents:\n",
    "\n",
    "* [Problem Statement](#problem-statement)\n",
    "* [Exploring Spotify API Output via Spotipy](#explore-spotipy)\n",
    "\n",
    "## Project Goals <a class=\"anchor\" id=\"problem-statement\"></a>\n",
    "<hr/>\n",
    "\n",
    "* Create a recommender that recommends songs/artists/albums (haven't decided which yet) based on Spotify Audio Features.\n",
    "* Public facing web app that is usable by a human.\n",
    "\n",
    "## Data <a class=\"anchor\" id=\"problem-statement\"></a>\n",
    "<hr/>\n",
    "\n",
    "Data is obtained from the [Spotify API](https://developer.spotify.com/documentation/web-api/reference/)  which is accessed using the Python library [Spotipy](https://spotipy.readthedocs.io/en/2.16.0/).\n",
    "\n",
    "\n",
    "## Deliverables <a class=\"anchor\" id=\"problem-statement\"></a>\n",
    "<hr/>\n",
    "\n",
    "* Public facing web app.\n",
    "\n",
    "[Access the Web App for this project](https://capstone-demo-app-draft.herokuapp.com/)\n",
    "\n",
    "\n",
    "## Conclusions <a class=\"anchor\" id=\"problem-statement\"></a>\n",
    "<hr/>\n",
    "\n",
    "## Future Work <a class=\"anchor\" id=\"problem-statement\"></a>\n",
    "<hr/>\n",
    "\n",
    "* Use audio analysis directly instead of relying on Spotify's processing and metrics"
   ]
  },
  {
   "cell_type": "code",
   "execution_count": null,
   "metadata": {},
   "outputs": [],
   "source": []
  }
 ],
 "metadata": {
  "kernelspec": {
   "display_name": "Python 3",
   "language": "python",
   "name": "python3"
  },
  "language_info": {
   "codemirror_mode": {
    "name": "ipython",
    "version": 3
   },
   "file_extension": ".py",
   "mimetype": "text/x-python",
   "name": "python",
   "nbconvert_exporter": "python",
   "pygments_lexer": "ipython3",
   "version": "3.8.5"
  }
 },
 "nbformat": 4,
 "nbformat_minor": 4
}
