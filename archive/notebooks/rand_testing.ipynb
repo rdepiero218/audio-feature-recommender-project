{
 "cells": [
  {
   "cell_type": "code",
   "execution_count": 5,
   "metadata": {},
   "outputs": [
    {
     "data": {
      "text/plain": [
       "datetime.datetime(2020, 11, 10, 14, 15, 18, 471146)"
      ]
     },
     "execution_count": 5,
     "metadata": {},
     "output_type": "execute_result"
    }
   ],
   "source": [
    "from datetime import datetime\n",
    "\n",
    "today = datetime.now()\n",
    "today"
   ]
  },
  {
   "cell_type": "code",
   "execution_count": 11,
   "metadata": {},
   "outputs": [
    {
     "data": {
      "text/plain": [
       "'20201110_141518'"
      ]
     },
     "execution_count": 11,
     "metadata": {},
     "output_type": "execute_result"
    }
   ],
   "source": [
    "today.strftime('%Y%m%d_%H%M%S')"
   ]
  },
  {
   "cell_type": "code",
   "execution_count": 17,
   "metadata": {},
   "outputs": [],
   "source": [
    "\n",
    "\n",
    "playlist_file = open('../playlists/playlist_boston-country.txt', 'r+')\n",
    "\n",
    "text = playlist_file.read().splitlines()\n"
   ]
  },
  {
   "cell_type": "code",
   "execution_count": 19,
   "metadata": {},
   "outputs": [
    {
     "data": {
      "text/plain": [
       "list"
      ]
     },
     "execution_count": 19,
     "metadata": {},
     "output_type": "execute_result"
    }
   ],
   "source": [
    "type()"
   ]
  },
  {
   "cell_type": "code",
   "execution_count": 20,
   "metadata": {},
   "outputs": [
    {
     "data": {
      "text/plain": [
       "['spotify:track:4HJ7mSMtHAdU55lLjGE4zW',\n",
       " 'spotify:track:6IBcOGPsniK3Pso1wHIhew',\n",
       " 'spotify:track:2wrJq5XKLnmhRXHIAf9xBa',\n",
       " 'spotify:track:4BP3uh0hFLFRb5cjsgLqDh',\n",
       " 'spotify:track:14GwnOeC9qYEKEA6uOZepa',\n",
       " 'spotify:track:23T0OX7QOiIUFShSzbJ5Uo',\n",
       " 'spotify:track:1QEEqeFIZktqIpPI4jSVSF',\n",
       " 'spotify:track:7aEtlGHoiPAfRB084NiDmx',\n",
       " 'spotify:track:20OFwXhEXf12DzwXmaV7fj',\n",
       " 'spotify:track:1mMLMZYXkMueg65jRRWG1l',\n",
       " 'spotify:track:6xHI9KjUjYT0FPtGO8Mxa1',\n",
       " 'spotify:track:6vC90OOjZR165Hw8CpsqEm',\n",
       " 'spotify:track:698eQRku24PIYPQPHItKlA',\n",
       " 'spotify:track:1D7cfiC5mxqHfTCcOiRBej',\n",
       " 'spotify:track:0nYvjcSlCgjcwogQAwIwNp',\n",
       " 'spotify:track:70YvYr2hGlS01bKRIho1HM']"
      ]
     },
     "execution_count": 20,
     "metadata": {},
     "output_type": "execute_result"
    }
   ],
   "source": [
    "text"
   ]
  },
  {
   "cell_type": "code",
   "execution_count": null,
   "metadata": {},
   "outputs": [],
   "source": []
  }
 ],
 "metadata": {
  "kernelspec": {
   "display_name": "Python 3",
   "language": "python",
   "name": "python3"
  },
  "language_info": {
   "codemirror_mode": {
    "name": "ipython",
    "version": 3
   },
   "file_extension": ".py",
   "mimetype": "text/x-python",
   "name": "python",
   "nbconvert_exporter": "python",
   "pygments_lexer": "ipython3",
   "version": "3.8.5"
  }
 },
 "nbformat": 4,
 "nbformat_minor": 4
}
