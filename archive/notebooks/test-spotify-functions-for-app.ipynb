{
 "cells": [
  {
   "cell_type": "markdown",
   "metadata": {},
   "source": [
    "# Capstone Project\n",
    "\n",
    "## *Pulling Audio Information from Spotify*\n",
    "\n",
    "This notebook contains testing for functions pulling and formatting information from spotify API for use in streamlit demo app.\n",
    "\n",
    "#### Table of Contents\n",
    "\n",
    "* [Function to Pull Audio Features for Album](#write-function)\n",
    "\n",
    "* [Test Case: Luckier by Half - Dalton & the Sheriffs](#test-dalton)\n",
    "\n",
    "### Import Libraries & Read in Data"
   ]
  },
  {
   "cell_type": "code",
   "execution_count": 2,
   "metadata": {},
   "outputs": [],
   "source": [
    "## standard imports \n",
    "import pandas as pd \n",
    "import numpy as np\n",
    "import seaborn as sns\n",
    "\n",
    "import datetime as dt\n",
    "\n",
    "import re\n",
    "## visualizations\n",
    "import matplotlib.pyplot as plt\n",
    "\n",
    "import spotipy\n",
    "from spotipy.oauth2 import SpotifyClientCredentials\n",
    "\n",
    "# ## options\n",
    "# import sklearn\n",
    "# pd.options.display.max_rows = 4000\n",
    "# pd.options.display.max_columns = 100\n",
    "# pd.set_option('max_colwidth', 100)\n",
    "\n",
    "### Spotify Credentials - must be set in local environment to run\n",
    "auth_manager = SpotifyClientCredentials()\n",
    "sp = spotipy.Spotify(auth_manager=auth_manager)"
   ]
  },
  {
   "cell_type": "markdown",
   "metadata": {},
   "source": [
    "## Function to Pull Audio Features for Album<a class=\"anchor\" id=\"write-function\"></a>\n",
    "<hr/>\n",
    "\n",
    "The following function pulls audio features and popularity for a given album on Spotify. \n",
    "\n",
    "The first version (commented below) initially used the `album_tracks` method from the Spotipy API. It was discovered that this returns a 'simplifiied' version of the track information which did not include a track's popularity. The function was rewritten to pull track information separately so that the popularity feature could be collected and combined with the audio features for each track."
   ]
  },
  {
   "cell_type": "code",
   "execution_count": 6,
   "metadata": {},
   "outputs": [],
   "source": [
    "def album_audio_features(ID):\n",
    "    album_tracks_list = sp.album_tracks(ID, market='US')['items']\n",
    "    \n",
    "    album_tracks_URI = [album_tracks_list[i].get('uri') for i in range(len(album_tracks_list))]\n",
    "\n",
    "    track_list = []\n",
    "    \n",
    "    raw_track_list = sp.tracks(album_tracks_URI, market='US')['tracks']\n",
    "    \n",
    "    track_list = []\n",
    "    \n",
    "    for i in range(len(raw_track_list)):\n",
    "        track_info = [raw_track_list[i].get('name'), raw_track_list[i].get('track_number'), raw_track_list[i].get('uri'), raw_track_list[i].get('popularity')]\n",
    "        track_list.append(track_info)\n",
    "\n",
    "    track_info_df = pd.DataFrame(track_list, columns=['track_name', 'track_number', 'track_uri', 'popularity'])\n",
    "\n",
    "    track_audio_features = sp.audio_features(tracks=track_info_df['track_uri'].values.tolist())\n",
    "\n",
    "    audio_features_df = pd.DataFrame.from_dict(track_audio_features)\n",
    "\n",
    "    drop_cols = ['type', 'id', 'uri', 'track_href', 'analysis_url']\n",
    "\n",
    "    audio_features_df.drop(columns = drop_cols, inplace=True)\n",
    "\n",
    "    album_df = pd.concat([track_info_df, audio_features_df], axis=1)\n",
    "    \n",
    "    return album_df"
   ]
  },
  {
   "cell_type": "markdown",
   "metadata": {},
   "source": [
    "## Test Case: Luckier by Half - Dalton & the Sheriffs<a class=\"anchor\" id=\"test-dalton\"></a>\n",
    "<hr/>\n",
    "\n",
    "Here we're testing the function written above as well as doing some basic EDA on the audio features for the album.\n",
    "\n",
    "### Pull audio feature information from Spotify"
   ]
  },
  {
   "cell_type": "code",
   "execution_count": 3,
   "metadata": {},
   "outputs": [],
   "source": [
    "### Spotify ID: ALBUM - Luckier by Half \n",
    "ID = '1v8tMGSGAsAn4KD78DFLq8'"
   ]
  },
  {
   "cell_type": "code",
   "execution_count": 4,
   "metadata": {},
   "outputs": [
    {
     "data": {
      "text/html": [
       "<div>\n",
       "<style scoped>\n",
       "    .dataframe tbody tr th:only-of-type {\n",
       "        vertical-align: middle;\n",
       "    }\n",
       "\n",
       "    .dataframe tbody tr th {\n",
       "        vertical-align: top;\n",
       "    }\n",
       "\n",
       "    .dataframe thead th {\n",
       "        text-align: right;\n",
       "    }\n",
       "</style>\n",
       "<table border=\"1\" class=\"dataframe\">\n",
       "  <thead>\n",
       "    <tr style=\"text-align: right;\">\n",
       "      <th></th>\n",
       "      <th>track_name</th>\n",
       "      <th>track_number</th>\n",
       "      <th>track_uri</th>\n",
       "      <th>popularity</th>\n",
       "      <th>danceability</th>\n",
       "      <th>energy</th>\n",
       "      <th>key</th>\n",
       "      <th>loudness</th>\n",
       "      <th>mode</th>\n",
       "      <th>speechiness</th>\n",
       "      <th>acousticness</th>\n",
       "      <th>instrumentalness</th>\n",
       "      <th>liveness</th>\n",
       "      <th>valence</th>\n",
       "      <th>tempo</th>\n",
       "      <th>duration_ms</th>\n",
       "      <th>time_signature</th>\n",
       "    </tr>\n",
       "  </thead>\n",
       "  <tbody>\n",
       "    <tr>\n",
       "      <th>0</th>\n",
       "      <td>Tell It Plain</td>\n",
       "      <td>1</td>\n",
       "      <td>spotify:track:69hE9a6camKM2ZALPfckIV</td>\n",
       "      <td>14</td>\n",
       "      <td>0.401</td>\n",
       "      <td>0.810</td>\n",
       "      <td>10</td>\n",
       "      <td>-5.582</td>\n",
       "      <td>1</td>\n",
       "      <td>0.0505</td>\n",
       "      <td>0.001280</td>\n",
       "      <td>0.041400</td>\n",
       "      <td>0.0770</td>\n",
       "      <td>0.338</td>\n",
       "      <td>159.795</td>\n",
       "      <td>243133</td>\n",
       "      <td>4</td>\n",
       "    </tr>\n",
       "    <tr>\n",
       "      <th>1</th>\n",
       "      <td>Cheap Seats</td>\n",
       "      <td>2</td>\n",
       "      <td>spotify:track:2pc4JumxjDqZ1b7DPwX33v</td>\n",
       "      <td>11</td>\n",
       "      <td>0.532</td>\n",
       "      <td>0.927</td>\n",
       "      <td>2</td>\n",
       "      <td>-5.255</td>\n",
       "      <td>1</td>\n",
       "      <td>0.0403</td>\n",
       "      <td>0.000868</td>\n",
       "      <td>0.009080</td>\n",
       "      <td>0.3700</td>\n",
       "      <td>0.707</td>\n",
       "      <td>100.024</td>\n",
       "      <td>231867</td>\n",
       "      <td>4</td>\n",
       "    </tr>\n",
       "    <tr>\n",
       "      <th>2</th>\n",
       "      <td>California Kid</td>\n",
       "      <td>3</td>\n",
       "      <td>spotify:track:6xaqmNbSGCmjEjiWyEwvA0</td>\n",
       "      <td>9</td>\n",
       "      <td>0.446</td>\n",
       "      <td>0.940</td>\n",
       "      <td>7</td>\n",
       "      <td>-5.263</td>\n",
       "      <td>1</td>\n",
       "      <td>0.0683</td>\n",
       "      <td>0.001020</td>\n",
       "      <td>0.073500</td>\n",
       "      <td>0.2990</td>\n",
       "      <td>0.386</td>\n",
       "      <td>127.941</td>\n",
       "      <td>186333</td>\n",
       "      <td>4</td>\n",
       "    </tr>\n",
       "    <tr>\n",
       "      <th>3</th>\n",
       "      <td>The Strummer</td>\n",
       "      <td>4</td>\n",
       "      <td>spotify:track:3E39MkTSUbIds3lY1wcfnL</td>\n",
       "      <td>11</td>\n",
       "      <td>0.326</td>\n",
       "      <td>0.995</td>\n",
       "      <td>7</td>\n",
       "      <td>-3.644</td>\n",
       "      <td>1</td>\n",
       "      <td>0.3500</td>\n",
       "      <td>0.000531</td>\n",
       "      <td>0.389000</td>\n",
       "      <td>0.0548</td>\n",
       "      <td>0.429</td>\n",
       "      <td>216.020</td>\n",
       "      <td>186133</td>\n",
       "      <td>4</td>\n",
       "    </tr>\n",
       "    <tr>\n",
       "      <th>4</th>\n",
       "      <td>Holding On</td>\n",
       "      <td>5</td>\n",
       "      <td>spotify:track:4vciFvUV0oLrkKrWrl00dS</td>\n",
       "      <td>11</td>\n",
       "      <td>0.594</td>\n",
       "      <td>0.858</td>\n",
       "      <td>7</td>\n",
       "      <td>-5.757</td>\n",
       "      <td>1</td>\n",
       "      <td>0.0264</td>\n",
       "      <td>0.000470</td>\n",
       "      <td>0.235000</td>\n",
       "      <td>0.1420</td>\n",
       "      <td>0.431</td>\n",
       "      <td>99.999</td>\n",
       "      <td>209400</td>\n",
       "      <td>4</td>\n",
       "    </tr>\n",
       "    <tr>\n",
       "      <th>5</th>\n",
       "      <td>Sunday Nights</td>\n",
       "      <td>6</td>\n",
       "      <td>spotify:track:09ybluJcnqeOE39ONdB7Hc</td>\n",
       "      <td>13</td>\n",
       "      <td>0.161</td>\n",
       "      <td>0.961</td>\n",
       "      <td>7</td>\n",
       "      <td>-5.220</td>\n",
       "      <td>1</td>\n",
       "      <td>0.1090</td>\n",
       "      <td>0.000077</td>\n",
       "      <td>0.745000</td>\n",
       "      <td>0.2410</td>\n",
       "      <td>0.298</td>\n",
       "      <td>179.840</td>\n",
       "      <td>217427</td>\n",
       "      <td>4</td>\n",
       "    </tr>\n",
       "    <tr>\n",
       "      <th>6</th>\n",
       "      <td>Boston</td>\n",
       "      <td>7</td>\n",
       "      <td>spotify:track:4HJ7mSMtHAdU55lLjGE4zW</td>\n",
       "      <td>15</td>\n",
       "      <td>0.541</td>\n",
       "      <td>0.921</td>\n",
       "      <td>11</td>\n",
       "      <td>-5.250</td>\n",
       "      <td>1</td>\n",
       "      <td>0.0443</td>\n",
       "      <td>0.000520</td>\n",
       "      <td>0.078400</td>\n",
       "      <td>0.1590</td>\n",
       "      <td>0.613</td>\n",
       "      <td>99.980</td>\n",
       "      <td>223440</td>\n",
       "      <td>4</td>\n",
       "    </tr>\n",
       "    <tr>\n",
       "      <th>7</th>\n",
       "      <td>Hand-Me-Down</td>\n",
       "      <td>8</td>\n",
       "      <td>spotify:track:3b9nCGWTyf7bTRKPvyC9S8</td>\n",
       "      <td>8</td>\n",
       "      <td>0.296</td>\n",
       "      <td>0.838</td>\n",
       "      <td>0</td>\n",
       "      <td>-6.671</td>\n",
       "      <td>1</td>\n",
       "      <td>0.0375</td>\n",
       "      <td>0.000157</td>\n",
       "      <td>0.130000</td>\n",
       "      <td>0.1400</td>\n",
       "      <td>0.287</td>\n",
       "      <td>98.950</td>\n",
       "      <td>171227</td>\n",
       "      <td>4</td>\n",
       "    </tr>\n",
       "    <tr>\n",
       "      <th>8</th>\n",
       "      <td>80 Good</td>\n",
       "      <td>9</td>\n",
       "      <td>spotify:track:3Rt4CW4KLTNlVlpkrfuixM</td>\n",
       "      <td>7</td>\n",
       "      <td>0.411</td>\n",
       "      <td>0.874</td>\n",
       "      <td>1</td>\n",
       "      <td>-5.352</td>\n",
       "      <td>1</td>\n",
       "      <td>0.0356</td>\n",
       "      <td>0.005490</td>\n",
       "      <td>0.432000</td>\n",
       "      <td>0.0995</td>\n",
       "      <td>0.514</td>\n",
       "      <td>179.930</td>\n",
       "      <td>188627</td>\n",
       "      <td>4</td>\n",
       "    </tr>\n",
       "    <tr>\n",
       "      <th>9</th>\n",
       "      <td>Her Good Name</td>\n",
       "      <td>10</td>\n",
       "      <td>spotify:track:4tXJMxK2K4ITXRH6z9M26L</td>\n",
       "      <td>8</td>\n",
       "      <td>0.450</td>\n",
       "      <td>0.599</td>\n",
       "      <td>11</td>\n",
       "      <td>-7.444</td>\n",
       "      <td>1</td>\n",
       "      <td>0.0273</td>\n",
       "      <td>0.060100</td>\n",
       "      <td>0.044700</td>\n",
       "      <td>0.1020</td>\n",
       "      <td>0.380</td>\n",
       "      <td>80.647</td>\n",
       "      <td>222880</td>\n",
       "      <td>4</td>\n",
       "    </tr>\n",
       "    <tr>\n",
       "      <th>10</th>\n",
       "      <td>Bones</td>\n",
       "      <td>11</td>\n",
       "      <td>spotify:track:3JCpJihZb02ahRf59BPeVr</td>\n",
       "      <td>6</td>\n",
       "      <td>0.276</td>\n",
       "      <td>0.611</td>\n",
       "      <td>7</td>\n",
       "      <td>-7.921</td>\n",
       "      <td>1</td>\n",
       "      <td>0.0311</td>\n",
       "      <td>0.039800</td>\n",
       "      <td>0.002950</td>\n",
       "      <td>0.1400</td>\n",
       "      <td>0.354</td>\n",
       "      <td>97.371</td>\n",
       "      <td>204893</td>\n",
       "      <td>4</td>\n",
       "    </tr>\n",
       "    <tr>\n",
       "      <th>11</th>\n",
       "      <td>The Ballad of Southie</td>\n",
       "      <td>12</td>\n",
       "      <td>spotify:track:4j27PyoknqKy48NqRrZrgo</td>\n",
       "      <td>8</td>\n",
       "      <td>0.207</td>\n",
       "      <td>0.953</td>\n",
       "      <td>2</td>\n",
       "      <td>-4.630</td>\n",
       "      <td>1</td>\n",
       "      <td>0.0847</td>\n",
       "      <td>0.000469</td>\n",
       "      <td>0.115000</td>\n",
       "      <td>0.3080</td>\n",
       "      <td>0.548</td>\n",
       "      <td>169.074</td>\n",
       "      <td>229533</td>\n",
       "      <td>4</td>\n",
       "    </tr>\n",
       "    <tr>\n",
       "      <th>12</th>\n",
       "      <td>Daves Street</td>\n",
       "      <td>13</td>\n",
       "      <td>spotify:track:6em7Fr61PoOQLH9TkSHMGD</td>\n",
       "      <td>7</td>\n",
       "      <td>0.345</td>\n",
       "      <td>0.994</td>\n",
       "      <td>5</td>\n",
       "      <td>-4.040</td>\n",
       "      <td>1</td>\n",
       "      <td>0.1010</td>\n",
       "      <td>0.000122</td>\n",
       "      <td>0.017500</td>\n",
       "      <td>0.6480</td>\n",
       "      <td>0.512</td>\n",
       "      <td>143.673</td>\n",
       "      <td>229467</td>\n",
       "      <td>4</td>\n",
       "    </tr>\n",
       "    <tr>\n",
       "      <th>13</th>\n",
       "      <td>St. Patrick's Day</td>\n",
       "      <td>14</td>\n",
       "      <td>spotify:track:5sKRZ31xRYhad8HIGmbQQD</td>\n",
       "      <td>7</td>\n",
       "      <td>0.584</td>\n",
       "      <td>0.430</td>\n",
       "      <td>0</td>\n",
       "      <td>-12.033</td>\n",
       "      <td>1</td>\n",
       "      <td>0.1900</td>\n",
       "      <td>0.396000</td>\n",
       "      <td>0.000003</td>\n",
       "      <td>0.4110</td>\n",
       "      <td>0.214</td>\n",
       "      <td>85.583</td>\n",
       "      <td>200840</td>\n",
       "      <td>4</td>\n",
       "    </tr>\n",
       "  </tbody>\n",
       "</table>\n",
       "</div>"
      ],
      "text/plain": [
       "               track_name  track_number                             track_uri  \\\n",
       "0           Tell It Plain             1  spotify:track:69hE9a6camKM2ZALPfckIV   \n",
       "1             Cheap Seats             2  spotify:track:2pc4JumxjDqZ1b7DPwX33v   \n",
       "2          California Kid             3  spotify:track:6xaqmNbSGCmjEjiWyEwvA0   \n",
       "3            The Strummer             4  spotify:track:3E39MkTSUbIds3lY1wcfnL   \n",
       "4              Holding On             5  spotify:track:4vciFvUV0oLrkKrWrl00dS   \n",
       "5           Sunday Nights             6  spotify:track:09ybluJcnqeOE39ONdB7Hc   \n",
       "6                  Boston             7  spotify:track:4HJ7mSMtHAdU55lLjGE4zW   \n",
       "7            Hand-Me-Down             8  spotify:track:3b9nCGWTyf7bTRKPvyC9S8   \n",
       "8                 80 Good             9  spotify:track:3Rt4CW4KLTNlVlpkrfuixM   \n",
       "9           Her Good Name            10  spotify:track:4tXJMxK2K4ITXRH6z9M26L   \n",
       "10                  Bones            11  spotify:track:3JCpJihZb02ahRf59BPeVr   \n",
       "11  The Ballad of Southie            12  spotify:track:4j27PyoknqKy48NqRrZrgo   \n",
       "12           Daves Street            13  spotify:track:6em7Fr61PoOQLH9TkSHMGD   \n",
       "13      St. Patrick's Day            14  spotify:track:5sKRZ31xRYhad8HIGmbQQD   \n",
       "\n",
       "    popularity  danceability  energy  key  loudness  mode  speechiness  \\\n",
       "0           14         0.401   0.810   10    -5.582     1       0.0505   \n",
       "1           11         0.532   0.927    2    -5.255     1       0.0403   \n",
       "2            9         0.446   0.940    7    -5.263     1       0.0683   \n",
       "3           11         0.326   0.995    7    -3.644     1       0.3500   \n",
       "4           11         0.594   0.858    7    -5.757     1       0.0264   \n",
       "5           13         0.161   0.961    7    -5.220     1       0.1090   \n",
       "6           15         0.541   0.921   11    -5.250     1       0.0443   \n",
       "7            8         0.296   0.838    0    -6.671     1       0.0375   \n",
       "8            7         0.411   0.874    1    -5.352     1       0.0356   \n",
       "9            8         0.450   0.599   11    -7.444     1       0.0273   \n",
       "10           6         0.276   0.611    7    -7.921     1       0.0311   \n",
       "11           8         0.207   0.953    2    -4.630     1       0.0847   \n",
       "12           7         0.345   0.994    5    -4.040     1       0.1010   \n",
       "13           7         0.584   0.430    0   -12.033     1       0.1900   \n",
       "\n",
       "    acousticness  instrumentalness  liveness  valence    tempo  duration_ms  \\\n",
       "0       0.001280          0.041400    0.0770    0.338  159.795       243133   \n",
       "1       0.000868          0.009080    0.3700    0.707  100.024       231867   \n",
       "2       0.001020          0.073500    0.2990    0.386  127.941       186333   \n",
       "3       0.000531          0.389000    0.0548    0.429  216.020       186133   \n",
       "4       0.000470          0.235000    0.1420    0.431   99.999       209400   \n",
       "5       0.000077          0.745000    0.2410    0.298  179.840       217427   \n",
       "6       0.000520          0.078400    0.1590    0.613   99.980       223440   \n",
       "7       0.000157          0.130000    0.1400    0.287   98.950       171227   \n",
       "8       0.005490          0.432000    0.0995    0.514  179.930       188627   \n",
       "9       0.060100          0.044700    0.1020    0.380   80.647       222880   \n",
       "10      0.039800          0.002950    0.1400    0.354   97.371       204893   \n",
       "11      0.000469          0.115000    0.3080    0.548  169.074       229533   \n",
       "12      0.000122          0.017500    0.6480    0.512  143.673       229467   \n",
       "13      0.396000          0.000003    0.4110    0.214   85.583       200840   \n",
       "\n",
       "    time_signature  \n",
       "0                4  \n",
       "1                4  \n",
       "2                4  \n",
       "3                4  \n",
       "4                4  \n",
       "5                4  \n",
       "6                4  \n",
       "7                4  \n",
       "8                4  \n",
       "9                4  \n",
       "10               4  \n",
       "11               4  \n",
       "12               4  \n",
       "13               4  "
      ]
     },
     "execution_count": 4,
     "metadata": {},
     "output_type": "execute_result"
    }
   ],
   "source": [
    "luckier = album_audio_features(ID)\n",
    "luckier"
   ]
  },
  {
   "cell_type": "markdown",
   "metadata": {},
   "source": [
    "## Plot Audio Features Bar Chart\n",
    "<hr/>"
   ]
  },
  {
   "cell_type": "code",
   "execution_count": 5,
   "metadata": {},
   "outputs": [],
   "source": [
    "def plot_audio_features(df, artist_name, album_name):\n",
    "    df = df.iloc[::-1]\n",
    "    ### Horizontal subplots\n",
    "    df.plot.barh(\n",
    "        x = 'track_name',\n",
    "        y = ['valence','energy', 'danceability'],\n",
    "        ylim = [0,1], \n",
    "        sharey = True,\n",
    "        subplots = True, \n",
    "        layout = (1,3),\n",
    "        figsize = (15,5),\n",
    "        legend = False, \n",
    "        title = f'{artist_name} - {album_name}', \n",
    "        xlabel = 'Track Name')"
   ]
  },
  {
   "cell_type": "code",
   "execution_count": 6,
   "metadata": {},
   "outputs": [
    {
     "data": {
      "image/png": "[encoded data removed]",
      "text/plain": [
       "<Figure size 1080x360 with 3 Axes>"
      ]
     },
     "metadata": {
      "needs_background": "light"
     },
     "output_type": "display_data"
    }
   ],
   "source": [
    "plot_audio_features(luckier, 'Dalton & the Sherrifs', 'Luckier by Half')"
   ]
  },
  {
   "cell_type": "code",
   "execution_count": 7,
   "metadata": {},
   "outputs": [],
   "source": [
    "# luckier.columns"
   ]
  },
  {
   "cell_type": "code",
   "execution_count": 8,
   "metadata": {},
   "outputs": [],
   "source": [
    "# luckier.info()"
   ]
  },
  {
   "cell_type": "markdown",
   "metadata": {},
   "source": [
    "## Convert Track Duration into M:S\n",
    "<hr/>"
   ]
  },
  {
   "cell_type": "code",
   "execution_count": 186,
   "metadata": {},
   "outputs": [],
   "source": [
    "def convert_duration(time_ms):\n",
    "    secs = int((time_ms/1000)%60)\n",
    "    if secs < 10:\n",
    "        secs = str('0') + str(secs)\n",
    "    mins = int((time_ms/(1000*60))%60)\n",
    "    mins_secs = str(mins) + ':' + str(secs)\n",
    "    return mins_secs"
   ]
  },
  {
   "cell_type": "code",
   "execution_count": 32,
   "metadata": {},
   "outputs": [
    {
     "name": "stdout",
     "output_type": "stream",
     "text": [
      "4 03 4:03\n"
     ]
    },
    {
     "data": {
      "text/plain": [
       "'4:03'"
      ]
     },
     "execution_count": 32,
     "metadata": {},
     "output_type": "execute_result"
    }
   ],
   "source": [
    "convert_duration(243133)"
   ]
  },
  {
   "cell_type": "code",
   "execution_count": 11,
   "metadata": {},
   "outputs": [],
   "source": [
    "df_track_list = luckier[['track_number', 'track_name']].copy()\n",
    "# df_track_list"
   ]
  },
  {
   "cell_type": "code",
   "execution_count": 16,
   "metadata": {},
   "outputs": [],
   "source": [
    "df_track_list['Time'] = luckier['duration_ms'].apply(convert_duration)"
   ]
  },
  {
   "cell_type": "code",
   "execution_count": 17,
   "metadata": {},
   "outputs": [
    {
     "data": {
      "text/html": [
       "<div>\n",
       "<style scoped>\n",
       "    .dataframe tbody tr th:only-of-type {\n",
       "        vertical-align: middle;\n",
       "    }\n",
       "\n",
       "    .dataframe tbody tr th {\n",
       "        vertical-align: top;\n",
       "    }\n",
       "\n",
       "    .dataframe thead th {\n",
       "        text-align: right;\n",
       "    }\n",
       "</style>\n",
       "<table border=\"1\" class=\"dataframe\">\n",
       "  <thead>\n",
       "    <tr style=\"text-align: right;\">\n",
       "      <th></th>\n",
       "      <th>track_number</th>\n",
       "      <th>track_name</th>\n",
       "      <th>Time</th>\n",
       "    </tr>\n",
       "  </thead>\n",
       "  <tbody>\n",
       "    <tr>\n",
       "      <th>0</th>\n",
       "      <td>1</td>\n",
       "      <td>Tell It Plain</td>\n",
       "      <td>4:03</td>\n",
       "    </tr>\n",
       "    <tr>\n",
       "      <th>1</th>\n",
       "      <td>2</td>\n",
       "      <td>Cheap Seats</td>\n",
       "      <td>3:51</td>\n",
       "    </tr>\n",
       "    <tr>\n",
       "      <th>2</th>\n",
       "      <td>3</td>\n",
       "      <td>California Kid</td>\n",
       "      <td>3:06</td>\n",
       "    </tr>\n",
       "    <tr>\n",
       "      <th>3</th>\n",
       "      <td>4</td>\n",
       "      <td>The Strummer</td>\n",
       "      <td>3:06</td>\n",
       "    </tr>\n",
       "    <tr>\n",
       "      <th>4</th>\n",
       "      <td>5</td>\n",
       "      <td>Holding On</td>\n",
       "      <td>3:29</td>\n",
       "    </tr>\n",
       "    <tr>\n",
       "      <th>5</th>\n",
       "      <td>6</td>\n",
       "      <td>Sunday Nights</td>\n",
       "      <td>3:37</td>\n",
       "    </tr>\n",
       "    <tr>\n",
       "      <th>6</th>\n",
       "      <td>7</td>\n",
       "      <td>Boston</td>\n",
       "      <td>3:43</td>\n",
       "    </tr>\n",
       "    <tr>\n",
       "      <th>7</th>\n",
       "      <td>8</td>\n",
       "      <td>Hand-Me-Down</td>\n",
       "      <td>2:51</td>\n",
       "    </tr>\n",
       "    <tr>\n",
       "      <th>8</th>\n",
       "      <td>9</td>\n",
       "      <td>80 Good</td>\n",
       "      <td>3:08</td>\n",
       "    </tr>\n",
       "    <tr>\n",
       "      <th>9</th>\n",
       "      <td>10</td>\n",
       "      <td>Her Good Name</td>\n",
       "      <td>3:42</td>\n",
       "    </tr>\n",
       "    <tr>\n",
       "      <th>10</th>\n",
       "      <td>11</td>\n",
       "      <td>Bones</td>\n",
       "      <td>3:24</td>\n",
       "    </tr>\n",
       "    <tr>\n",
       "      <th>11</th>\n",
       "      <td>12</td>\n",
       "      <td>The Ballad of Southie</td>\n",
       "      <td>3:49</td>\n",
       "    </tr>\n",
       "    <tr>\n",
       "      <th>12</th>\n",
       "      <td>13</td>\n",
       "      <td>Daves Street</td>\n",
       "      <td>3:49</td>\n",
       "    </tr>\n",
       "    <tr>\n",
       "      <th>13</th>\n",
       "      <td>14</td>\n",
       "      <td>St. Patrick's Day</td>\n",
       "      <td>3:20</td>\n",
       "    </tr>\n",
       "  </tbody>\n",
       "</table>\n",
       "</div>"
      ],
      "text/plain": [
       "    track_number             track_name  Time\n",
       "0              1          Tell It Plain  4:03\n",
       "1              2            Cheap Seats  3:51\n",
       "2              3         California Kid  3:06\n",
       "3              4           The Strummer  3:06\n",
       "4              5             Holding On  3:29\n",
       "5              6          Sunday Nights  3:37\n",
       "6              7                 Boston  3:43\n",
       "7              8           Hand-Me-Down  2:51\n",
       "8              9                80 Good  3:08\n",
       "9             10          Her Good Name  3:42\n",
       "10            11                  Bones  3:24\n",
       "11            12  The Ballad of Southie  3:49\n",
       "12            13           Daves Street  3:49\n",
       "13            14      St. Patrick's Day  3:20"
      ]
     },
     "execution_count": 17,
     "metadata": {},
     "output_type": "execute_result"
    }
   ],
   "source": [
    "df_track_list"
   ]
  },
  {
   "cell_type": "markdown",
   "metadata": {},
   "source": [
    "## Get album Artwork"
   ]
  },
  {
   "cell_type": "code",
   "execution_count": 21,
   "metadata": {},
   "outputs": [],
   "source": [
    "album_object = sp.album(ID)"
   ]
  },
  {
   "cell_type": "code",
   "execution_count": 23,
   "metadata": {},
   "outputs": [
    {
     "data": {
      "text/plain": [
       "dict_keys(['album_type', 'artists', 'available_markets', 'copyrights', 'external_ids', 'external_urls', 'genres', 'href', 'id', 'images', 'label', 'name', 'popularity', 'release_date', 'release_date_precision', 'total_tracks', 'tracks', 'type', 'uri'])"
      ]
     },
     "execution_count": 23,
     "metadata": {},
     "output_type": "execute_result"
    }
   ],
   "source": [
    "album_object.keys()"
   ]
  },
  {
   "cell_type": "code",
   "execution_count": 20,
   "metadata": {},
   "outputs": [
    {
     "data": {
      "text/plain": [
       "[{'height': 640,\n",
       "  'url': 'https://i.scdn.co/image/ab67616d0000b273388feb546609171eae74dbad',\n",
       "  'width': 640},\n",
       " {'height': 300,\n",
       "  'url': 'https://i.scdn.co/image/ab67616d00001e02388feb546609171eae74dbad',\n",
       "  'width': 300},\n",
       " {'height': 64,\n",
       "  'url': 'https://i.scdn.co/image/ab67616d00004851388feb546609171eae74dbad',\n",
       "  'width': 64}]"
      ]
     },
     "execution_count": 20,
     "metadata": {},
     "output_type": "execute_result"
    }
   ],
   "source": [
    "album_object['images']"
   ]
  },
  {
   "cell_type": "code",
   "execution_count": 25,
   "metadata": {},
   "outputs": [
    {
     "data": {
      "text/plain": [
       "'https://i.scdn.co/image/ab67616d00001e02388feb546609171eae74dbad'"
      ]
     },
     "execution_count": 25,
     "metadata": {},
     "output_type": "execute_result"
    }
   ],
   "source": [
    "album_artwork = album_object['images'][1]['url']"
   ]
  },
  {
   "cell_type": "code",
   "execution_count": 26,
   "metadata": {},
   "outputs": [
    {
     "data": {
      "text/plain": [
       "22"
      ]
     },
     "execution_count": 26,
     "metadata": {},
     "output_type": "execute_result"
    }
   ],
   "source": [
    "album_pop = album_object['popularity']"
   ]
  },
  {
   "cell_type": "code",
   "execution_count": 29,
   "metadata": {},
   "outputs": [],
   "source": [
    "album_artist = album_object['artists'][0]['name']"
   ]
  },
  {
   "cell_type": "code",
   "execution_count": 30,
   "metadata": {},
   "outputs": [
    {
     "data": {
      "text/plain": [
       "[]"
      ]
     },
     "execution_count": 30,
     "metadata": {},
     "output_type": "execute_result"
    }
   ],
   "source": [
    "album_object['genres']"
   ]
  },
  {
   "cell_type": "code",
   "execution_count": 38,
   "metadata": {},
   "outputs": [
    {
     "data": {
      "text/plain": [
       "'2020-07-08'"
      ]
     },
     "execution_count": 38,
     "metadata": {},
     "output_type": "execute_result"
    }
   ],
   "source": [
    "released = album_object['release_date']\n",
    "released"
   ]
  },
  {
   "cell_type": "code",
   "execution_count": 46,
   "metadata": {},
   "outputs": [
    {
     "data": {
      "text/plain": [
       "'July 08, 2020'"
      ]
     },
     "execution_count": 46,
     "metadata": {},
     "output_type": "execute_result"
    }
   ],
   "source": [
    "# dt.datetime(released).strft('%B%d%Y')\n",
    "dt.datetime.strptime(released,'%Y-%m-%d').strftime('%B %d, %Y')"
   ]
  },
  {
   "cell_type": "code",
   "execution_count": 32,
   "metadata": {},
   "outputs": [
    {
     "data": {
      "text/plain": [
       "'Luckier by Half'"
      ]
     },
     "execution_count": 32,
     "metadata": {},
     "output_type": "execute_result"
    }
   ],
   "source": [
    "album_object['name']"
   ]
  },
  {
   "cell_type": "markdown",
   "metadata": {},
   "source": [
    "## Get individual track info\n",
    "\n",
    "Had to attempt this one several times. Needs kept changing for the model."
   ]
  },
  {
   "cell_type": "code",
   "execution_count": null,
   "metadata": {},
   "outputs": [],
   "source": []
  },
  {
   "cell_type": "code",
   "execution_count": 50,
   "metadata": {},
   "outputs": [],
   "source": [
    "# def track_audio_features(uri):\n",
    "#     ### get track audio features from Spotify\n",
    "    \n",
    "#     track_features_dict = sp.audio_features(uri)[0]\n",
    "#     track_features = []\n",
    "#     ### add popularity (only avail via full track object)\n",
    "#     track_features.append(np.round(sp.track(uri)['popularity']/100, 2))\n",
    "#     ### pull desired features for entry into model\n",
    "#     features_key = ['acousticness', 'danceability', 'energy', 'speechiness', 'valence']\n",
    "#     for feature in features_key:\n",
    "#         track_features.append([track_features_dict[feature]])\n",
    "#     ### I feel like this should be a df right? Ensure cols are correct?\n",
    "#     col_names = ['popularity'] + features_key\n",
    "#     track_features_df_dict = {col_names[i]: track_features[i] for i in range(len(col_names))}\n",
    "\n",
    "#     df = pd.DataFrame.from_dict(track_features_df_dict)\n",
    "    \n",
    "#     return df\n",
    "# #     return track_features"
   ]
  },
  {
   "cell_type": "code",
   "execution_count": 52,
   "metadata": {},
   "outputs": [],
   "source": [
    "# features_key = ['acousticness', 'danceability', 'energy', 'speechiness', 'valence']\n",
    "# col_names = ['popularity'] + features_key\n",
    "# col_names"
   ]
  },
  {
   "cell_type": "code",
   "execution_count": 51,
   "metadata": {},
   "outputs": [],
   "source": [
    "# track_features = [97, 0.0194, 0.935, 0.454, 0.375, 0.357]\n",
    "# track_features_df_dict = {col_names[i]: track_features[i] for i in range(len(col_names))}\n",
    "# track_features_df_dict"
   ]
  },
  {
   "cell_type": "code",
   "execution_count": 53,
   "metadata": {},
   "outputs": [],
   "source": [
    "# df = pd.DataFrame.from_dict(track_features_df_dict)\n",
    "# # df\n",
    "# df = pd.DataFrame(track_features, columns=col_names)\n",
    "# df\n",
    "# # df.append(track_features, ignore_index=True)"
   ]
  },
  {
   "cell_type": "code",
   "execution_count": 47,
   "metadata": {},
   "outputs": [],
   "source": [
    "# # track_audio_features(WAP_uri)\n",
    "# ### get track audio features from Spotify\n",
    "# track_features_dict = sp.audio_features(uri)[0]\n",
    "# track_features = []\n",
    "# ### add popularity (only avail via full track object)\n",
    "# track_features.append(np.round(sp.track(uri)['popularity']/100, 2))\n",
    "# ### pull desired features for entry into model\n",
    "# features_key = ['acousticness', 'danceability', 'energy', 'speechiness', 'valence']\n",
    "# for feature in features_key:\n",
    "#     track_features.append([track_features_dict[feature]])\n",
    "# ### I feel like this should be a df right? Ensure cols are correct?\n",
    "# col_names = ['popularity'] + features_key\n",
    "# track_features_df_dict = {col_names[i]: track_features[i] for i in range(len(col_names))}\n",
    "\n",
    "# df = pd.DataFrame.from_dict(track_features_df_dict)\n",
    "\n",
    "# # track_features\n",
    "\n",
    "# # df = pd.DataFrame(track_features_df_dict, colums)\n",
    "# # df"
   ]
  },
  {
   "cell_type": "markdown",
   "metadata": {},
   "source": [
    "### Second Attempt at function for individual track info\n",
    "\n",
    "This version produces a dataframe of a single track with desired information for the recommender. The idea is that this can be concatenated to whatever dataframe you're using and then culled down to values for the similarity matrix.\n"
   ]
  },
  {
   "cell_type": "code",
   "execution_count": 100,
   "metadata": {},
   "outputs": [],
   "source": [
    "uri = 'spotify:track:4Oun2ylbjFKMPTiaSbbCih'  ### WAP - Cardi B"
   ]
  },
  {
   "cell_type": "code",
   "execution_count": 94,
   "metadata": {},
   "outputs": [],
   "source": [
    "def track_audio_features(ID):\n",
    "    \n",
    "    ### GET TRACK INFO FROM SPOTIFY\n",
    "    track_obj = sp.track(uri)\n",
    "        \n",
    "    track_info = [\n",
    "        track_obj.get('artists')[0]['name'],\n",
    "        track_obj.get('id'),\n",
    "        np.round(track_obj.get('popularity')/100, 2)\n",
    "    ]\n",
    "    \n",
    "    ### GET TRACK AUDIO FEATURES FROM SPOTIFY\n",
    "    track_audio_features = sp.audio_features(tracks=uri)[0]\n",
    "    \n",
    "    ### only keep features we need for model\n",
    "#     features_key = ['acousticness', 'danceability', 'energy', 'speechiness', 'valence']\n",
    "    for feature in features_key:\n",
    "        track_info.append(track_features_dict[feature])\n",
    "        \n",
    "    ### list of column names for use in datafame\n",
    "    col_names = ['artist_name', 'track_id', 'popularity'] + features_key\n",
    "    ### create dataframe\n",
    "    track_info_df = pd.DataFrame([track_info], columns=col_names)\n",
    "    \n",
    "    return track_info_df"
   ]
  },
  {
   "cell_type": "code",
   "execution_count": 4,
   "metadata": {},
   "outputs": [],
   "source": [
    "uri = 'spotify:track:4Oun2ylbjFKMPTiaSbbCih' \n",
    "\n",
    "track_obj = sp.track(uri)"
   ]
  },
  {
   "cell_type": "code",
   "execution_count": null,
   "metadata": {},
   "outputs": [],
   "source": []
  },
  {
   "cell_type": "code",
   "execution_count": 65,
   "metadata": {},
   "outputs": [
    {
     "data": {
      "text/plain": [
       "'Cardi B'"
      ]
     },
     "execution_count": 65,
     "metadata": {},
     "output_type": "execute_result"
    }
   ],
   "source": [
    "track_obj.get('artists')[0]['name']"
   ]
  },
  {
   "cell_type": "code",
   "execution_count": 67,
   "metadata": {},
   "outputs": [
    {
     "data": {
      "text/plain": [
       "'4Oun2ylbjFKMPTiaSbbCih'"
      ]
     },
     "execution_count": 67,
     "metadata": {},
     "output_type": "execute_result"
    }
   ],
   "source": [
    "track_obj.get('id')"
   ]
  },
  {
   "cell_type": "code",
   "execution_count": 68,
   "metadata": {},
   "outputs": [
    {
     "data": {
      "text/plain": [
       "97"
      ]
     },
     "execution_count": 68,
     "metadata": {},
     "output_type": "execute_result"
    }
   ],
   "source": [
    "track_obj.get('popularity')"
   ]
  },
  {
   "cell_type": "code",
   "execution_count": 86,
   "metadata": {},
   "outputs": [
    {
     "data": {
      "text/html": [
       "<div>\n",
       "<style scoped>\n",
       "    .dataframe tbody tr th:only-of-type {\n",
       "        vertical-align: middle;\n",
       "    }\n",
       "\n",
       "    .dataframe tbody tr th {\n",
       "        vertical-align: top;\n",
       "    }\n",
       "\n",
       "    .dataframe thead th {\n",
       "        text-align: right;\n",
       "    }\n",
       "</style>\n",
       "<table border=\"1\" class=\"dataframe\">\n",
       "  <thead>\n",
       "    <tr style=\"text-align: right;\">\n",
       "      <th></th>\n",
       "      <th>artist_name</th>\n",
       "      <th>track_id</th>\n",
       "      <th>popularity</th>\n",
       "    </tr>\n",
       "  </thead>\n",
       "  <tbody>\n",
       "    <tr>\n",
       "      <th>0</th>\n",
       "      <td>Cardi B</td>\n",
       "      <td>4Oun2ylbjFKMPTiaSbbCih</td>\n",
       "      <td>0.97</td>\n",
       "    </tr>\n",
       "  </tbody>\n",
       "</table>\n",
       "</div>"
      ],
      "text/plain": [
       "  artist_name                track_id  popularity\n",
       "0     Cardi B  4Oun2ylbjFKMPTiaSbbCih        0.97"
      ]
     },
     "execution_count": 86,
     "metadata": {},
     "output_type": "execute_result"
    }
   ],
   "source": [
    "track_info = [\n",
    "    track_obj.get('artists')[0]['name'],\n",
    "    track_obj.get('id'),\n",
    "    np.round(track_obj.get('popularity')/100, 2)\n",
    "]\n",
    "track_info\n",
    "track_info_df = pd.DataFrame([track_info], columns=['artist_name', 'track_id', 'popularity'])\n",
    "track_info_df"
   ]
  },
  {
   "cell_type": "code",
   "execution_count": 81,
   "metadata": {},
   "outputs": [
    {
     "data": {
      "text/plain": [
       "{'danceability': 0.935,\n",
       " 'energy': 0.454,\n",
       " 'key': 1,\n",
       " 'loudness': -7.509,\n",
       " 'mode': 1,\n",
       " 'speechiness': 0.375,\n",
       " 'acousticness': 0.0194,\n",
       " 'instrumentalness': 0,\n",
       " 'liveness': 0.0824,\n",
       " 'valence': 0.357,\n",
       " 'tempo': 133.073,\n",
       " 'type': 'audio_features',\n",
       " 'id': '4Oun2ylbjFKMPTiaSbbCih',\n",
       " 'uri': 'spotify:track:4Oun2ylbjFKMPTiaSbbCih',\n",
       " 'track_href': 'https://api.spotify.com/v1/tracks/4Oun2ylbjFKMPTiaSbbCih',\n",
       " 'analysis_url': 'https://api.spotify.com/v1/audio-analysis/4Oun2ylbjFKMPTiaSbbCih',\n",
       " 'duration_ms': 187541,\n",
       " 'time_signature': 4}"
      ]
     },
     "execution_count": 81,
     "metadata": {},
     "output_type": "execute_result"
    }
   ],
   "source": [
    "track_audio_features = sp.audio_features(tracks=uri)[0]\n",
    "track_audio_features"
   ]
  },
  {
   "cell_type": "code",
   "execution_count": 87,
   "metadata": {},
   "outputs": [
    {
     "data": {
      "text/plain": [
       "['Cardi B', '4Oun2ylbjFKMPTiaSbbCih', 0.97, 0.0194, 0.935, 0.454, 0.375, 0.357]"
      ]
     },
     "execution_count": 87,
     "metadata": {},
     "output_type": "execute_result"
    }
   ],
   "source": [
    "features_key = ['acousticness', 'danceability', 'energy', 'speechiness', 'valence']\n",
    "for feature in features_key:\n",
    "    track_info.append(track_audio_features[feature])\n",
    "track_info"
   ]
  },
  {
   "cell_type": "code",
   "execution_count": 90,
   "metadata": {},
   "outputs": [
    {
     "data": {
      "text/html": [
       "<div>\n",
       "<style scoped>\n",
       "    .dataframe tbody tr th:only-of-type {\n",
       "        vertical-align: middle;\n",
       "    }\n",
       "\n",
       "    .dataframe tbody tr th {\n",
       "        vertical-align: top;\n",
       "    }\n",
       "\n",
       "    .dataframe thead th {\n",
       "        text-align: right;\n",
       "    }\n",
       "</style>\n",
       "<table border=\"1\" class=\"dataframe\">\n",
       "  <thead>\n",
       "    <tr style=\"text-align: right;\">\n",
       "      <th></th>\n",
       "      <th>artist_name</th>\n",
       "      <th>track_id</th>\n",
       "      <th>popularity</th>\n",
       "      <th>acousticness</th>\n",
       "      <th>danceability</th>\n",
       "      <th>energy</th>\n",
       "      <th>speechiness</th>\n",
       "      <th>valence</th>\n",
       "    </tr>\n",
       "  </thead>\n",
       "  <tbody>\n",
       "    <tr>\n",
       "      <th>0</th>\n",
       "      <td>Cardi B</td>\n",
       "      <td>4Oun2ylbjFKMPTiaSbbCih</td>\n",
       "      <td>0.97</td>\n",
       "      <td>0.0194</td>\n",
       "      <td>0.935</td>\n",
       "      <td>0.454</td>\n",
       "      <td>0.375</td>\n",
       "      <td>0.357</td>\n",
       "    </tr>\n",
       "  </tbody>\n",
       "</table>\n",
       "</div>"
      ],
      "text/plain": [
       "  artist_name                track_id  popularity  acousticness  danceability  \\\n",
       "0     Cardi B  4Oun2ylbjFKMPTiaSbbCih        0.97        0.0194         0.935   \n",
       "\n",
       "   energy  speechiness  valence  \n",
       "0   0.454        0.375    0.357  "
      ]
     },
     "execution_count": 90,
     "metadata": {},
     "output_type": "execute_result"
    }
   ],
   "source": [
    "col_names = ['artist_name', 'track_id', 'popularity'] + features_key\n",
    "\n",
    "track_info_df = pd.DataFrame([track_info], columns=col_names)\n",
    "track_info_df"
   ]
  },
  {
   "cell_type": "code",
   "execution_count": null,
   "metadata": {},
   "outputs": [],
   "source": []
  },
  {
   "cell_type": "code",
   "execution_count": 95,
   "metadata": {},
   "outputs": [
    {
     "data": {
      "text/html": [
       "<div>\n",
       "<style scoped>\n",
       "    .dataframe tbody tr th:only-of-type {\n",
       "        vertical-align: middle;\n",
       "    }\n",
       "\n",
       "    .dataframe tbody tr th {\n",
       "        vertical-align: top;\n",
       "    }\n",
       "\n",
       "    .dataframe thead th {\n",
       "        text-align: right;\n",
       "    }\n",
       "</style>\n",
       "<table border=\"1\" class=\"dataframe\">\n",
       "  <thead>\n",
       "    <tr style=\"text-align: right;\">\n",
       "      <th></th>\n",
       "      <th>artist_name</th>\n",
       "      <th>track_id</th>\n",
       "      <th>popularity</th>\n",
       "      <th>acousticness</th>\n",
       "      <th>danceability</th>\n",
       "      <th>energy</th>\n",
       "      <th>speechiness</th>\n",
       "      <th>valence</th>\n",
       "    </tr>\n",
       "  </thead>\n",
       "  <tbody>\n",
       "    <tr>\n",
       "      <th>0</th>\n",
       "      <td>Cardi B</td>\n",
       "      <td>4Oun2ylbjFKMPTiaSbbCih</td>\n",
       "      <td>0.97</td>\n",
       "      <td>0.0194</td>\n",
       "      <td>0.935</td>\n",
       "      <td>0.454</td>\n",
       "      <td>0.375</td>\n",
       "      <td>0.357</td>\n",
       "    </tr>\n",
       "  </tbody>\n",
       "</table>\n",
       "</div>"
      ],
      "text/plain": [
       "  artist_name                track_id  popularity  acousticness  danceability  \\\n",
       "0     Cardi B  4Oun2ylbjFKMPTiaSbbCih        0.97        0.0194         0.935   \n",
       "\n",
       "   energy  speechiness  valence  \n",
       "0   0.454        0.375    0.357  "
      ]
     },
     "execution_count": 95,
     "metadata": {},
     "output_type": "execute_result"
    }
   ],
   "source": [
    "### testing function\n",
    "track_audio_features(WAP_uri)"
   ]
  },
  {
   "cell_type": "markdown",
   "metadata": {},
   "source": [
    "Oh man I fucked up again....just need equivalent of the album data, ie. all audio features...makes sense becasuse it will be easier to change features used if desired later.\n",
    "\n",
    "### Third Attempt "
   ]
  },
  {
   "cell_type": "code",
   "execution_count": 156,
   "metadata": {},
   "outputs": [],
   "source": [
    "def track_audio_features(uri):\n",
    "    ### Note: fcn can use ID, URI or URL from Spotify\n",
    "    ### GET TRACK INFO FROM SPOTIFY\n",
    "    \n",
    "    track_obj = sp.track(uri)\n",
    "        \n",
    "    track_info = [\n",
    "        track_obj.get('name'),\n",
    "        track_obj.get('artists')[0]['name'],\n",
    "        track_obj.get('id'),\n",
    "        np.round(track_obj.get('popularity')/100, 2)\n",
    "    ]\n",
    "    \n",
    "    ### GET TRACK AUDIO FEATURES FROM SPOTIFY\n",
    "    track_audio_features = sp.audio_features(tracks=uri)\n",
    "    \n",
    "    audio_features_df = pd.DataFrame.from_dict(track_audio_features)\n",
    "    drop_cols = ['type', 'id', 'uri', 'track_href', 'analysis_url']\n",
    "    audio_features_df.drop(columns = drop_cols, inplace=True)\n",
    "\n",
    "    ### create dataframe\n",
    "    track_info_df = pd.DataFrame([track_info], columns=['track_name','artist', 'track_id', 'popularity'])\n",
    "    \n",
    "    track_audio_features = pd.concat([track_info_df, audio_features_df], axis=1)\n",
    "    \n",
    "    return track_audio_features"
   ]
  },
  {
   "cell_type": "code",
   "execution_count": 199,
   "metadata": {},
   "outputs": [
    {
     "data": {
      "text/html": [
       "<div>\n",
       "<style scoped>\n",
       "    .dataframe tbody tr th:only-of-type {\n",
       "        vertical-align: middle;\n",
       "    }\n",
       "\n",
       "    .dataframe tbody tr th {\n",
       "        vertical-align: top;\n",
       "    }\n",
       "\n",
       "    .dataframe thead th {\n",
       "        text-align: right;\n",
       "    }\n",
       "</style>\n",
       "<table border=\"1\" class=\"dataframe\">\n",
       "  <thead>\n",
       "    <tr style=\"text-align: right;\">\n",
       "      <th></th>\n",
       "      <th>track_name</th>\n",
       "      <th>artist</th>\n",
       "      <th>track_id</th>\n",
       "      <th>popularity</th>\n",
       "      <th>danceability</th>\n",
       "      <th>energy</th>\n",
       "      <th>key</th>\n",
       "      <th>loudness</th>\n",
       "      <th>mode</th>\n",
       "      <th>speechiness</th>\n",
       "      <th>acousticness</th>\n",
       "      <th>instrumentalness</th>\n",
       "      <th>liveness</th>\n",
       "      <th>valence</th>\n",
       "      <th>tempo</th>\n",
       "      <th>duration_ms</th>\n",
       "      <th>time_signature</th>\n",
       "    </tr>\n",
       "  </thead>\n",
       "  <tbody>\n",
       "    <tr>\n",
       "      <th>0</th>\n",
       "      <td>WAP (feat. Megan Thee Stallion)</td>\n",
       "      <td>Cardi B</td>\n",
       "      <td>4Oun2ylbjFKMPTiaSbbCih</td>\n",
       "      <td>0.97</td>\n",
       "      <td>0.935</td>\n",
       "      <td>0.454</td>\n",
       "      <td>1</td>\n",
       "      <td>-7.509</td>\n",
       "      <td>1</td>\n",
       "      <td>0.375</td>\n",
       "      <td>0.0194</td>\n",
       "      <td>0</td>\n",
       "      <td>0.0824</td>\n",
       "      <td>0.357</td>\n",
       "      <td>133.073</td>\n",
       "      <td>187541</td>\n",
       "      <td>4</td>\n",
       "    </tr>\n",
       "  </tbody>\n",
       "</table>\n",
       "</div>"
      ],
      "text/plain": [
       "                        track_name   artist                track_id  \\\n",
       "0  WAP (feat. Megan Thee Stallion)  Cardi B  4Oun2ylbjFKMPTiaSbbCih   \n",
       "\n",
       "   popularity  danceability  energy  key  loudness  mode  speechiness  \\\n",
       "0        0.97         0.935   0.454    1    -7.509     1        0.375   \n",
       "\n",
       "   acousticness  instrumentalness  liveness  valence    tempo  duration_ms  \\\n",
       "0        0.0194                 0    0.0824    0.357  133.073       187541   \n",
       "\n",
       "   time_signature  \n",
       "0               4  "
      ]
     },
     "execution_count": 199,
     "metadata": {},
     "output_type": "execute_result"
    }
   ],
   "source": [
    "### testing function\n",
    "WAP = track_audio_features(uri)\n",
    "WAP"
   ]
  },
  {
   "cell_type": "code",
   "execution_count": 158,
   "metadata": {},
   "outputs": [],
   "source": [
    "WAP.to_csv('../data/WAP.csv', index=False)"
   ]
  },
  {
   "cell_type": "code",
   "execution_count": 160,
   "metadata": {},
   "outputs": [],
   "source": [
    "### create Boston - Dalton CSV\n",
    "boston = track_audio_features('spotify:track:4HJ7mSMtHAdU55lLjGE4zW')\n",
    "boston.to_csv('../data/boston.csv', index=False)"
   ]
  },
  {
   "cell_type": "code",
   "execution_count": null,
   "metadata": {},
   "outputs": [],
   "source": []
  },
  {
   "cell_type": "code",
   "execution_count": 107,
   "metadata": {},
   "outputs": [],
   "source": [
    "track_audio_features = sp.audio_features(tracks=uri)\n",
    "    \n",
    "audio_features_df = pd.DataFrame.from_dict(track_audio_features)"
   ]
  },
  {
   "cell_type": "code",
   "execution_count": 108,
   "metadata": {},
   "outputs": [
    {
     "data": {
      "text/html": [
       "<div>\n",
       "<style scoped>\n",
       "    .dataframe tbody tr th:only-of-type {\n",
       "        vertical-align: middle;\n",
       "    }\n",
       "\n",
       "    .dataframe tbody tr th {\n",
       "        vertical-align: top;\n",
       "    }\n",
       "\n",
       "    .dataframe thead th {\n",
       "        text-align: right;\n",
       "    }\n",
       "</style>\n",
       "<table border=\"1\" class=\"dataframe\">\n",
       "  <thead>\n",
       "    <tr style=\"text-align: right;\">\n",
       "      <th></th>\n",
       "      <th>danceability</th>\n",
       "      <th>energy</th>\n",
       "      <th>key</th>\n",
       "      <th>loudness</th>\n",
       "      <th>mode</th>\n",
       "      <th>speechiness</th>\n",
       "      <th>acousticness</th>\n",
       "      <th>instrumentalness</th>\n",
       "      <th>liveness</th>\n",
       "      <th>valence</th>\n",
       "      <th>tempo</th>\n",
       "      <th>type</th>\n",
       "      <th>id</th>\n",
       "      <th>uri</th>\n",
       "      <th>track_href</th>\n",
       "      <th>analysis_url</th>\n",
       "      <th>duration_ms</th>\n",
       "      <th>time_signature</th>\n",
       "    </tr>\n",
       "  </thead>\n",
       "  <tbody>\n",
       "    <tr>\n",
       "      <th>0</th>\n",
       "      <td>0.935</td>\n",
       "      <td>0.454</td>\n",
       "      <td>1</td>\n",
       "      <td>-7.509</td>\n",
       "      <td>1</td>\n",
       "      <td>0.375</td>\n",
       "      <td>0.0194</td>\n",
       "      <td>0</td>\n",
       "      <td>0.0824</td>\n",
       "      <td>0.357</td>\n",
       "      <td>133.073</td>\n",
       "      <td>audio_features</td>\n",
       "      <td>4Oun2ylbjFKMPTiaSbbCih</td>\n",
       "      <td>spotify:track:4Oun2ylbjFKMPTiaSbbCih</td>\n",
       "      <td>https://api.spotify.com/v1/tracks/4Oun2ylbjFKM...</td>\n",
       "      <td>https://api.spotify.com/v1/audio-analysis/4Oun...</td>\n",
       "      <td>187541</td>\n",
       "      <td>4</td>\n",
       "    </tr>\n",
       "  </tbody>\n",
       "</table>\n",
       "</div>"
      ],
      "text/plain": [
       "   danceability  energy  key  loudness  mode  speechiness  acousticness  \\\n",
       "0         0.935   0.454    1    -7.509     1        0.375        0.0194   \n",
       "\n",
       "   instrumentalness  liveness  valence    tempo            type  \\\n",
       "0                 0    0.0824    0.357  133.073  audio_features   \n",
       "\n",
       "                       id                                   uri  \\\n",
       "0  4Oun2ylbjFKMPTiaSbbCih  spotify:track:4Oun2ylbjFKMPTiaSbbCih   \n",
       "\n",
       "                                          track_href  \\\n",
       "0  https://api.spotify.com/v1/tracks/4Oun2ylbjFKM...   \n",
       "\n",
       "                                        analysis_url  duration_ms  \\\n",
       "0  https://api.spotify.com/v1/audio-analysis/4Oun...       187541   \n",
       "\n",
       "   time_signature  \n",
       "0               4  "
      ]
     },
     "execution_count": 108,
     "metadata": {},
     "output_type": "execute_result"
    }
   ],
   "source": [
    "audio_features_df"
   ]
  },
  {
   "cell_type": "code",
   "execution_count": 109,
   "metadata": {},
   "outputs": [
    {
     "data": {
      "text/plain": [
       "[{'danceability': 0.935,\n",
       "  'energy': 0.454,\n",
       "  'key': 1,\n",
       "  'loudness': -7.509,\n",
       "  'mode': 1,\n",
       "  'speechiness': 0.375,\n",
       "  'acousticness': 0.0194,\n",
       "  'instrumentalness': 0,\n",
       "  'liveness': 0.0824,\n",
       "  'valence': 0.357,\n",
       "  'tempo': 133.073,\n",
       "  'type': 'audio_features',\n",
       "  'id': '4Oun2ylbjFKMPTiaSbbCih',\n",
       "  'uri': 'spotify:track:4Oun2ylbjFKMPTiaSbbCih',\n",
       "  'track_href': 'https://api.spotify.com/v1/tracks/4Oun2ylbjFKMPTiaSbbCih',\n",
       "  'analysis_url': 'https://api.spotify.com/v1/audio-analysis/4Oun2ylbjFKMPTiaSbbCih',\n",
       "  'duration_ms': 187541,\n",
       "  'time_signature': 4}]"
      ]
     },
     "execution_count": 109,
     "metadata": {},
     "output_type": "execute_result"
    }
   ],
   "source": [
    "track_audio_features"
   ]
  },
  {
   "cell_type": "markdown",
   "metadata": {},
   "source": [
    "### Display track info"
   ]
  },
  {
   "cell_type": "code",
   "execution_count": 202,
   "metadata": {},
   "outputs": [],
   "source": [
    "def format_display_track(track):\n",
    "    ### display track features\n",
    "    track['Time'] = track['duration_ms'].apply(convert_duration)\n",
    "    track_feat = track[['Time','popularity', 'danceability', 'energy', 'valence', 'speechiness', 'instrumentalness','acousticness', 'liveness', 'loudness', 'tempo']]\n",
    "    track_feat = track_feat.T\n",
    "    track_feat.columns = ['Feature']\n",
    "\n",
    "    return track_feat"
   ]
  },
  {
   "cell_type": "code",
   "execution_count": 203,
   "metadata": {},
   "outputs": [
    {
     "data": {
      "text/html": [
       "<div>\n",
       "<style scoped>\n",
       "    .dataframe tbody tr th:only-of-type {\n",
       "        vertical-align: middle;\n",
       "    }\n",
       "\n",
       "    .dataframe tbody tr th {\n",
       "        vertical-align: top;\n",
       "    }\n",
       "\n",
       "    .dataframe thead th {\n",
       "        text-align: right;\n",
       "    }\n",
       "</style>\n",
       "<table border=\"1\" class=\"dataframe\">\n",
       "  <thead>\n",
       "    <tr style=\"text-align: right;\">\n",
       "      <th></th>\n",
       "      <th>Feature</th>\n",
       "    </tr>\n",
       "  </thead>\n",
       "  <tbody>\n",
       "    <tr>\n",
       "      <th>Time</th>\n",
       "      <td>3:07</td>\n",
       "    </tr>\n",
       "    <tr>\n",
       "      <th>popularity</th>\n",
       "      <td>0.97</td>\n",
       "    </tr>\n",
       "    <tr>\n",
       "      <th>danceability</th>\n",
       "      <td>0.935</td>\n",
       "    </tr>\n",
       "    <tr>\n",
       "      <th>energy</th>\n",
       "      <td>0.454</td>\n",
       "    </tr>\n",
       "    <tr>\n",
       "      <th>valence</th>\n",
       "      <td>0.357</td>\n",
       "    </tr>\n",
       "    <tr>\n",
       "      <th>speechiness</th>\n",
       "      <td>0.375</td>\n",
       "    </tr>\n",
       "    <tr>\n",
       "      <th>instrumentalness</th>\n",
       "      <td>0</td>\n",
       "    </tr>\n",
       "    <tr>\n",
       "      <th>acousticness</th>\n",
       "      <td>0.0194</td>\n",
       "    </tr>\n",
       "    <tr>\n",
       "      <th>liveness</th>\n",
       "      <td>0.0824</td>\n",
       "    </tr>\n",
       "    <tr>\n",
       "      <th>loudness</th>\n",
       "      <td>-7.509</td>\n",
       "    </tr>\n",
       "    <tr>\n",
       "      <th>tempo</th>\n",
       "      <td>133.073</td>\n",
       "    </tr>\n",
       "  </tbody>\n",
       "</table>\n",
       "</div>"
      ],
      "text/plain": [
       "                  Feature\n",
       "Time                 3:07\n",
       "popularity           0.97\n",
       "danceability        0.935\n",
       "energy              0.454\n",
       "valence             0.357\n",
       "speechiness         0.375\n",
       "instrumentalness        0\n",
       "acousticness       0.0194\n",
       "liveness           0.0824\n",
       "loudness           -7.509\n",
       "tempo             133.073"
      ]
     },
     "execution_count": 203,
     "metadata": {},
     "output_type": "execute_result"
    }
   ],
   "source": [
    "format_display_track(WAP)"
   ]
  },
  {
   "cell_type": "code",
   "execution_count": 188,
   "metadata": {},
   "outputs": [],
   "source": [
    "WAP['Time'] = WAP['duration_ms'].apply(convert_duration)"
   ]
  },
  {
   "cell_type": "code",
   "execution_count": 190,
   "metadata": {},
   "outputs": [],
   "source": [
    "WAP_T = WAP.T"
   ]
  },
  {
   "cell_type": "code",
   "execution_count": 177,
   "metadata": {},
   "outputs": [
    {
     "data": {
      "text/plain": [
       "Index(['track_name', 'artist', 'track_id', 'popularity', 'danceability',\n",
       "       'energy', 'key', 'loudness', 'mode', 'speechiness', 'acousticness',\n",
       "       'instrumentalness', 'liveness', 'valence', 'tempo', 'duration_ms',\n",
       "       'time_signature'],\n",
       "      dtype='object')"
      ]
     },
     "execution_count": 177,
     "metadata": {},
     "output_type": "execute_result"
    }
   ],
   "source": [
    "WAP_T.index"
   ]
  },
  {
   "cell_type": "code",
   "execution_count": 191,
   "metadata": {},
   "outputs": [],
   "source": [
    "WAP_T.drop(['track_name', 'artist', 'track_id', 'key', 'mode', 'time_signature', 'duration_ms'], inplace=True)"
   ]
  },
  {
   "cell_type": "code",
   "execution_count": 171,
   "metadata": {},
   "outputs": [
    {
     "data": {
      "text/plain": [
       "Index(['popularity', 'danceability', 'energy', 'loudness', 'speechiness',\n",
       "       'acousticness', 'instrumentalness', 'liveness', 'valence', 'tempo'],\n",
       "      dtype='object')"
      ]
     },
     "execution_count": 171,
     "metadata": {},
     "output_type": "execute_result"
    }
   ],
   "source": [
    "WAP_T.index"
   ]
  },
  {
   "cell_type": "code",
   "execution_count": 192,
   "metadata": {},
   "outputs": [
    {
     "data": {
      "text/html": [
       "<div>\n",
       "<style scoped>\n",
       "    .dataframe tbody tr th:only-of-type {\n",
       "        vertical-align: middle;\n",
       "    }\n",
       "\n",
       "    .dataframe tbody tr th {\n",
       "        vertical-align: top;\n",
       "    }\n",
       "\n",
       "    .dataframe thead th {\n",
       "        text-align: right;\n",
       "    }\n",
       "</style>\n",
       "<table border=\"1\" class=\"dataframe\">\n",
       "  <thead>\n",
       "    <tr style=\"text-align: right;\">\n",
       "      <th></th>\n",
       "      <th>0</th>\n",
       "    </tr>\n",
       "  </thead>\n",
       "  <tbody>\n",
       "    <tr>\n",
       "      <th>Time</th>\n",
       "      <td>3:07</td>\n",
       "    </tr>\n",
       "    <tr>\n",
       "      <th>popularity</th>\n",
       "      <td>0.97</td>\n",
       "    </tr>\n",
       "    <tr>\n",
       "      <th>danceability</th>\n",
       "      <td>0.935</td>\n",
       "    </tr>\n",
       "    <tr>\n",
       "      <th>energy</th>\n",
       "      <td>0.454</td>\n",
       "    </tr>\n",
       "    <tr>\n",
       "      <th>valence</th>\n",
       "      <td>0.357</td>\n",
       "    </tr>\n",
       "    <tr>\n",
       "      <th>speechiness</th>\n",
       "      <td>0.375</td>\n",
       "    </tr>\n",
       "    <tr>\n",
       "      <th>instrumentalness</th>\n",
       "      <td>0</td>\n",
       "    </tr>\n",
       "    <tr>\n",
       "      <th>acousticness</th>\n",
       "      <td>0.0194</td>\n",
       "    </tr>\n",
       "    <tr>\n",
       "      <th>liveness</th>\n",
       "      <td>0.0824</td>\n",
       "    </tr>\n",
       "    <tr>\n",
       "      <th>loudness</th>\n",
       "      <td>-7.509</td>\n",
       "    </tr>\n",
       "    <tr>\n",
       "      <th>tempo</th>\n",
       "      <td>133.073</td>\n",
       "    </tr>\n",
       "  </tbody>\n",
       "</table>\n",
       "</div>"
      ],
      "text/plain": [
       "                        0\n",
       "Time                 3:07\n",
       "popularity           0.97\n",
       "danceability        0.935\n",
       "energy              0.454\n",
       "valence             0.357\n",
       "speechiness         0.375\n",
       "instrumentalness        0\n",
       "acousticness       0.0194\n",
       "liveness           0.0824\n",
       "loudness           -7.509\n",
       "tempo             133.073"
      ]
     },
     "execution_count": 192,
     "metadata": {},
     "output_type": "execute_result"
    }
   ],
   "source": [
    "WAP_T = WAP_T.reindex(index=['Time','popularity', 'danceability', 'energy', 'valence', 'speechiness', 'instrumentalness',\n",
    "       'acousticness', 'liveness', 'loudness', 'tempo'])\n",
    "WAP_T"
   ]
  },
  {
   "cell_type": "code",
   "execution_count": 193,
   "metadata": {},
   "outputs": [],
   "source": [
    "WAP_T.columns = ['Feature']"
   ]
  },
  {
   "cell_type": "code",
   "execution_count": 194,
   "metadata": {},
   "outputs": [
    {
     "data": {
      "text/html": [
       "<div>\n",
       "<style scoped>\n",
       "    .dataframe tbody tr th:only-of-type {\n",
       "        vertical-align: middle;\n",
       "    }\n",
       "\n",
       "    .dataframe tbody tr th {\n",
       "        vertical-align: top;\n",
       "    }\n",
       "\n",
       "    .dataframe thead th {\n",
       "        text-align: right;\n",
       "    }\n",
       "</style>\n",
       "<table border=\"1\" class=\"dataframe\">\n",
       "  <thead>\n",
       "    <tr style=\"text-align: right;\">\n",
       "      <th></th>\n",
       "      <th>Feature</th>\n",
       "    </tr>\n",
       "  </thead>\n",
       "  <tbody>\n",
       "    <tr>\n",
       "      <th>Time</th>\n",
       "      <td>3:07</td>\n",
       "    </tr>\n",
       "    <tr>\n",
       "      <th>popularity</th>\n",
       "      <td>0.97</td>\n",
       "    </tr>\n",
       "    <tr>\n",
       "      <th>danceability</th>\n",
       "      <td>0.935</td>\n",
       "    </tr>\n",
       "    <tr>\n",
       "      <th>energy</th>\n",
       "      <td>0.454</td>\n",
       "    </tr>\n",
       "    <tr>\n",
       "      <th>valence</th>\n",
       "      <td>0.357</td>\n",
       "    </tr>\n",
       "    <tr>\n",
       "      <th>speechiness</th>\n",
       "      <td>0.375</td>\n",
       "    </tr>\n",
       "    <tr>\n",
       "      <th>instrumentalness</th>\n",
       "      <td>0</td>\n",
       "    </tr>\n",
       "    <tr>\n",
       "      <th>acousticness</th>\n",
       "      <td>0.0194</td>\n",
       "    </tr>\n",
       "    <tr>\n",
       "      <th>liveness</th>\n",
       "      <td>0.0824</td>\n",
       "    </tr>\n",
       "    <tr>\n",
       "      <th>loudness</th>\n",
       "      <td>-7.509</td>\n",
       "    </tr>\n",
       "    <tr>\n",
       "      <th>tempo</th>\n",
       "      <td>133.073</td>\n",
       "    </tr>\n",
       "  </tbody>\n",
       "</table>\n",
       "</div>"
      ],
      "text/plain": [
       "                  Feature\n",
       "Time                 3:07\n",
       "popularity           0.97\n",
       "danceability        0.935\n",
       "energy              0.454\n",
       "valence             0.357\n",
       "speechiness         0.375\n",
       "instrumentalness        0\n",
       "acousticness       0.0194\n",
       "liveness           0.0824\n",
       "loudness           -7.509\n",
       "tempo             133.073"
      ]
     },
     "execution_count": 194,
     "metadata": {},
     "output_type": "execute_result"
    }
   ],
   "source": [
    "WAP_T"
   ]
  },
  {
   "cell_type": "code",
   "execution_count": null,
   "metadata": {},
   "outputs": [],
   "source": []
  },
  {
   "cell_type": "markdown",
   "metadata": {},
   "source": [
    "## Display Recommendations as Playlist"
   ]
  },
  {
   "cell_type": "code",
   "execution_count": 118,
   "metadata": {},
   "outputs": [],
   "source": [
    "### test list produced from recommender model\n",
    "playlist_tracks = ['spotify:track:3m2aDCqn8eT5ElXDUiboGU',\n",
    " 'spotify:track:6FyRXC8tJUh863JCkyWqtk',\n",
    " 'spotify:track:7Ie9W94M7OjPoZVV216Xus',\n",
    " 'spotify:track:5ByAIlEEnxYdvpnezg7HTX',\n",
    " 'spotify:track:04KTF78FFg8sOHC1BADqbY',\n",
    "]"
   ]
  },
  {
   "cell_type": "code",
   "execution_count": 120,
   "metadata": {},
   "outputs": [],
   "source": [
    "tracks_dict = sp.tracks(playlist_tracks)"
   ]
  },
  {
   "cell_type": "code",
   "execution_count": 131,
   "metadata": {},
   "outputs": [
    {
     "data": {
      "text/plain": [
       "\"Nuthin' 2 Prove\""
      ]
     },
     "execution_count": 131,
     "metadata": {},
     "output_type": "execute_result"
    }
   ],
   "source": [
    "tracks_dict['tracks'][0]['album']['name']"
   ]
  },
  {
   "cell_type": "code",
   "execution_count": 123,
   "metadata": {},
   "outputs": [
    {
     "data": {
      "text/plain": [
       "'Get Dripped (feat. Playboi Carti)'"
      ]
     },
     "execution_count": 123,
     "metadata": {},
     "output_type": "execute_result"
    }
   ],
   "source": [
    "tracks_dict['tracks'][0]['name']"
   ]
  },
  {
   "cell_type": "code",
   "execution_count": 126,
   "metadata": {},
   "outputs": [
    {
     "data": {
      "text/plain": [
       "'Lil Yachty'"
      ]
     },
     "execution_count": 126,
     "metadata": {},
     "output_type": "execute_result"
    }
   ],
   "source": [
    "tracks_dict['tracks'][0]['artists'][0]['name']"
   ]
  },
  {
   "cell_type": "code",
   "execution_count": 127,
   "metadata": {},
   "outputs": [
    {
     "data": {
      "text/plain": [
       "158769"
      ]
     },
     "execution_count": 127,
     "metadata": {},
     "output_type": "execute_result"
    }
   ],
   "source": [
    "tracks_dict['tracks'][0]['duration_ms']"
   ]
  },
  {
   "cell_type": "code",
   "execution_count": 138,
   "metadata": {},
   "outputs": [],
   "source": [
    "playlist_info = []\n",
    "for i in range(len(playlist_tracks)):\n",
    "    track = [\n",
    "        tracks_dict['tracks'][i]['name'], \n",
    "        tracks_dict['tracks'][i]['artists'][0]['name'],\n",
    "        tracks_dict['tracks'][i]['album']['name']\n",
    "        ]\n",
    "    playlist_info.append(track)\n",
    "    \n",
    "playlist_df = pd.DataFrame(playlist_info, columns=['Title', 'Artist', 'Album'] )"
   ]
  },
  {
   "cell_type": "code",
   "execution_count": 139,
   "metadata": {},
   "outputs": [
    {
     "data": {
      "text/html": [
       "<div>\n",
       "<style scoped>\n",
       "    .dataframe tbody tr th:only-of-type {\n",
       "        vertical-align: middle;\n",
       "    }\n",
       "\n",
       "    .dataframe tbody tr th {\n",
       "        vertical-align: top;\n",
       "    }\n",
       "\n",
       "    .dataframe thead th {\n",
       "        text-align: right;\n",
       "    }\n",
       "</style>\n",
       "<table border=\"1\" class=\"dataframe\">\n",
       "  <thead>\n",
       "    <tr style=\"text-align: right;\">\n",
       "      <th></th>\n",
       "      <th>Title</th>\n",
       "      <th>Artist</th>\n",
       "      <th>Album</th>\n",
       "    </tr>\n",
       "  </thead>\n",
       "  <tbody>\n",
       "    <tr>\n",
       "      <th>0</th>\n",
       "      <td>Get Dripped (feat. Playboi Carti)</td>\n",
       "      <td>Lil Yachty</td>\n",
       "      <td>Nuthin' 2 Prove</td>\n",
       "    </tr>\n",
       "    <tr>\n",
       "      <th>1</th>\n",
       "      <td>Adan y Eva</td>\n",
       "      <td>Paulo Londra</td>\n",
       "      <td>Adan y Eva</td>\n",
       "    </tr>\n",
       "    <tr>\n",
       "      <th>2</th>\n",
       "      <td>Not Afraid</td>\n",
       "      <td>Eminem</td>\n",
       "      <td>Recovery</td>\n",
       "    </tr>\n",
       "    <tr>\n",
       "      <th>3</th>\n",
       "      <td>Juicy - 2005 Remaster</td>\n",
       "      <td>The Notorious B.I.G.</td>\n",
       "      <td>Ready to Die (The Remaster)</td>\n",
       "    </tr>\n",
       "    <tr>\n",
       "      <th>4</th>\n",
       "      <td>Hot In Herre</td>\n",
       "      <td>Nelly</td>\n",
       "      <td>Nellyville</td>\n",
       "    </tr>\n",
       "  </tbody>\n",
       "</table>\n",
       "</div>"
      ],
      "text/plain": [
       "                               Title                Artist  \\\n",
       "0  Get Dripped (feat. Playboi Carti)            Lil Yachty   \n",
       "1                         Adan y Eva          Paulo Londra   \n",
       "2                         Not Afraid                Eminem   \n",
       "3              Juicy - 2005 Remaster  The Notorious B.I.G.   \n",
       "4                       Hot In Herre                 Nelly   \n",
       "\n",
       "                         Album  \n",
       "0              Nuthin' 2 Prove  \n",
       "1                   Adan y Eva  \n",
       "2                     Recovery  \n",
       "3  Ready to Die (The Remaster)  \n",
       "4                   Nellyville  "
      ]
     },
     "execution_count": 139,
     "metadata": {},
     "output_type": "execute_result"
    }
   ],
   "source": [
    "playlist_df"
   ]
  },
  {
   "cell_type": "code",
   "execution_count": 146,
   "metadata": {},
   "outputs": [],
   "source": [
    "def display_playlist(playlist_tracks):\n",
    "    tracks_dict = sp.tracks(playlist_tracks)['tracks']\n",
    "    playlist_info = []\n",
    "    for i in range(len(playlist_tracks)):\n",
    "        track = [\n",
    "            tracks_dict[i]['name'], \n",
    "            tracks_dict[i]['artists'][0]['name'],\n",
    "            tracks_dict[i]['album']['name']\n",
    "            ]\n",
    "        playlist_info.append(track)\n",
    "    \n",
    "    playlist_df = pd.DataFrame(playlist_info, columns=['Title', 'Artist', 'Album'] )\n",
    "    ### start index at 1\n",
    "    playlist_df.index = np.arange(1,len(playlist_df)+1)\n",
    "    return playlist_df"
   ]
  },
  {
   "cell_type": "code",
   "execution_count": 147,
   "metadata": {},
   "outputs": [
    {
     "data": {
      "text/html": [
       "<div>\n",
       "<style scoped>\n",
       "    .dataframe tbody tr th:only-of-type {\n",
       "        vertical-align: middle;\n",
       "    }\n",
       "\n",
       "    .dataframe tbody tr th {\n",
       "        vertical-align: top;\n",
       "    }\n",
       "\n",
       "    .dataframe thead th {\n",
       "        text-align: right;\n",
       "    }\n",
       "</style>\n",
       "<table border=\"1\" class=\"dataframe\">\n",
       "  <thead>\n",
       "    <tr style=\"text-align: right;\">\n",
       "      <th></th>\n",
       "      <th>Title</th>\n",
       "      <th>Artist</th>\n",
       "      <th>Album</th>\n",
       "    </tr>\n",
       "  </thead>\n",
       "  <tbody>\n",
       "    <tr>\n",
       "      <th>1</th>\n",
       "      <td>Get Dripped (feat. Playboi Carti)</td>\n",
       "      <td>Lil Yachty</td>\n",
       "      <td>Nuthin' 2 Prove</td>\n",
       "    </tr>\n",
       "    <tr>\n",
       "      <th>2</th>\n",
       "      <td>Adan y Eva</td>\n",
       "      <td>Paulo Londra</td>\n",
       "      <td>Adan y Eva</td>\n",
       "    </tr>\n",
       "    <tr>\n",
       "      <th>3</th>\n",
       "      <td>Not Afraid</td>\n",
       "      <td>Eminem</td>\n",
       "      <td>Recovery</td>\n",
       "    </tr>\n",
       "    <tr>\n",
       "      <th>4</th>\n",
       "      <td>Juicy - 2005 Remaster</td>\n",
       "      <td>The Notorious B.I.G.</td>\n",
       "      <td>Ready to Die (The Remaster)</td>\n",
       "    </tr>\n",
       "    <tr>\n",
       "      <th>5</th>\n",
       "      <td>Hot In Herre</td>\n",
       "      <td>Nelly</td>\n",
       "      <td>Nellyville</td>\n",
       "    </tr>\n",
       "  </tbody>\n",
       "</table>\n",
       "</div>"
      ],
      "text/plain": [
       "                               Title                Artist  \\\n",
       "1  Get Dripped (feat. Playboi Carti)            Lil Yachty   \n",
       "2                         Adan y Eva          Paulo Londra   \n",
       "3                         Not Afraid                Eminem   \n",
       "4              Juicy - 2005 Remaster  The Notorious B.I.G.   \n",
       "5                       Hot In Herre                 Nelly   \n",
       "\n",
       "                         Album  \n",
       "1              Nuthin' 2 Prove  \n",
       "2                   Adan y Eva  \n",
       "3                     Recovery  \n",
       "4  Ready to Die (The Remaster)  \n",
       "5                   Nellyville  "
      ]
     },
     "execution_count": 147,
     "metadata": {},
     "output_type": "execute_result"
    }
   ],
   "source": [
    "display_playlist(playlist_tracks)"
   ]
  },
  {
   "cell_type": "code",
   "execution_count": 1,
   "metadata": {},
   "outputs": [],
   "source": [
    "def get_track_info(uri):\n",
    "    track = sp.track(uri)\n",
    "    track_info = {\n",
    "        'track_name' : track['name'],\n",
    "        'artist' : track['artists'][0]['name'],\n",
    "        'album' : track['album']['name'],\n",
    "        'artwork_url': track['album']['images'][1]['url'], ## 300 W 64 H\n",
    "        'release_date': dt.datetime.strptime(track['album']['release_date'],'%Y-%m-%d').strftime('%B %d, %Y'),\n",
    "        'track_id' : track['id'],\n",
    "        'popularity' : np.round(track['popularity']/100, 2),\n",
    "    }\n",
    "    # track_df = pd.DataFrame.from_dict(track_info)\n",
    "    return track_info\n",
    "\n",
    "def get_track_audio_features(track_info):\n",
    "    ### Note: fcn can use ID, URI or URL from Spotify\n",
    "    ### GET TRACK INFO FROM SPOTIFY\n",
    "    \n",
    "    # track_obj = sp.track(uri)\n",
    "\n",
    "    track_info_list = [\n",
    "        track_info['track_name'],\n",
    "        track_info['artist'],\n",
    "        track_info['album'],\n",
    "        track_info['track_id'],\n",
    "        track_info['popularity']\n",
    "    ]\n",
    "    \n",
    "    ### GET TRACK AUDIO FEATURES FROM SPOTIFY\n",
    "    track_audio_features = sp.audio_features(tracks=track_info['track_id'])\n",
    "    \n",
    "    audio_features_df = pd.DataFrame.from_dict(track_audio_features)\n",
    "    drop_cols = ['type', 'id', 'uri', 'track_href', 'analysis_url']\n",
    "    audio_features_df.drop(columns = drop_cols, inplace=True)\n",
    "\n",
    "    ### create dataframe\n",
    "    track_info_df = pd.DataFrame([track_info_list], columns=['track_name','artist', 'album', 'track_id', 'popularity'])\n",
    "    \n",
    "    track_audio_features = pd.concat([track_info_df, audio_features_df], axis=1)\n",
    "    \n",
    "    return track_audio_features"
   ]
  },
  {
   "cell_type": "code",
   "execution_count": 5,
   "metadata": {},
   "outputs": [],
   "source": [
    "track = get_track_info(uri)"
   ]
  },
  {
   "cell_type": "code",
   "execution_count": 7,
   "metadata": {},
   "outputs": [],
   "source": [
    "track_df = get_track_audio_features(track)"
   ]
  },
  {
   "cell_type": "code",
   "execution_count": 9,
   "metadata": {},
   "outputs": [
    {
     "data": {
      "text/html": [
       "<div>\n",
       "<style scoped>\n",
       "    .dataframe tbody tr th:only-of-type {\n",
       "        vertical-align: middle;\n",
       "    }\n",
       "\n",
       "    .dataframe tbody tr th {\n",
       "        vertical-align: top;\n",
       "    }\n",
       "\n",
       "    .dataframe thead th {\n",
       "        text-align: right;\n",
       "    }\n",
       "</style>\n",
       "<table border=\"1\" class=\"dataframe\">\n",
       "  <thead>\n",
       "    <tr style=\"text-align: right;\">\n",
       "      <th></th>\n",
       "      <th>track_name</th>\n",
       "      <th>artist</th>\n",
       "      <th>album</th>\n",
       "      <th>track_id</th>\n",
       "      <th>popularity</th>\n",
       "      <th>danceability</th>\n",
       "      <th>energy</th>\n",
       "      <th>key</th>\n",
       "      <th>loudness</th>\n",
       "      <th>mode</th>\n",
       "      <th>speechiness</th>\n",
       "      <th>acousticness</th>\n",
       "      <th>instrumentalness</th>\n",
       "      <th>liveness</th>\n",
       "      <th>valence</th>\n",
       "      <th>tempo</th>\n",
       "      <th>duration_ms</th>\n",
       "      <th>time_signature</th>\n",
       "    </tr>\n",
       "  </thead>\n",
       "  <tbody>\n",
       "    <tr>\n",
       "      <th>0</th>\n",
       "      <td>WAP (feat. Megan Thee Stallion)</td>\n",
       "      <td>Cardi B</td>\n",
       "      <td>WAP (feat. Megan Thee Stallion)</td>\n",
       "      <td>4Oun2ylbjFKMPTiaSbbCih</td>\n",
       "      <td>0.97</td>\n",
       "      <td>0.935</td>\n",
       "      <td>0.454</td>\n",
       "      <td>1</td>\n",
       "      <td>-7.509</td>\n",
       "      <td>1</td>\n",
       "      <td>0.375</td>\n",
       "      <td>0.0194</td>\n",
       "      <td>0</td>\n",
       "      <td>0.0824</td>\n",
       "      <td>0.357</td>\n",
       "      <td>133.073</td>\n",
       "      <td>187541</td>\n",
       "      <td>4</td>\n",
       "    </tr>\n",
       "  </tbody>\n",
       "</table>\n",
       "</div>"
      ],
      "text/plain": [
       "                        track_name   artist                            album  \\\n",
       "0  WAP (feat. Megan Thee Stallion)  Cardi B  WAP (feat. Megan Thee Stallion)   \n",
       "\n",
       "                 track_id  popularity  danceability  energy  key  loudness  \\\n",
       "0  4Oun2ylbjFKMPTiaSbbCih        0.97         0.935   0.454    1    -7.509   \n",
       "\n",
       "   mode  speechiness  acousticness  instrumentalness  liveness  valence  \\\n",
       "0     1        0.375        0.0194                 0    0.0824    0.357   \n",
       "\n",
       "     tempo  duration_ms  time_signature  \n",
       "0  133.073       187541               4  "
      ]
     },
     "execution_count": 9,
     "metadata": {},
     "output_type": "execute_result"
    }
   ],
   "source": [
    "track_df"
   ]
  },
  {
   "cell_type": "code",
   "execution_count": null,
   "metadata": {},
   "outputs": [],
   "source": []
  }
 ],
 "metadata": {
  "kernelspec": {
   "display_name": "Python 3",
   "language": "python",
   "name": "python3"
  },
  "language_info": {
   "codemirror_mode": {
    "name": "ipython",
    "version": 3
   },
   "file_extension": ".py",
   "mimetype": "text/x-python",
   "name": "python",
   "nbconvert_exporter": "python",
   "pygments_lexer": "ipython3",
   "version": "3.8.5"
  }
 },
 "nbformat": 4,
 "nbformat_minor": 4
}
